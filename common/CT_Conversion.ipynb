{
 "cells": [
  {
   "cell_type": "code",
   "execution_count": 6,
   "metadata": {},
   "outputs": [
    {
     "name": "stdout",
     "output_type": "stream",
     "text": [
      "/root/zindi\n"
     ]
    },
    {
     "name": "stderr",
     "output_type": "stream",
     "text": [
      "/root/.cache/pypoetry/virtualenvs/zindi-LtLKIbXv-py3.9/lib/python3.9/site-packages/IPython/core/magics/osm.py:417: UserWarning: using dhist requires you to install the `pickleshare` library.\n",
      "  self.shell.db['dhist'] = compress_dhist(dhist)[-100:]\n"
     ]
    }
   ],
   "source": [
    "# %cd /home/rana/Projects/zindi\n",
    "%cd /root/zindi\n",
    "import yaml\n",
    "import yaml\n",
    "with open('common/config.yaml', 'r') as f:\n",
    "    config = yaml.load(f, Loader=yaml.SafeLoader)"
   ]
  },
  {
   "cell_type": "code",
   "execution_count": 7,
   "metadata": {},
   "outputs": [],
   "source": [
    "checkpoint = config.get('checkpoint')\n",
    "new_model_path=config.get('new_model_path')+checkpoint\n",
    "ct_model_path=config.get('ct_model_path')+checkpoint"
   ]
  },
  {
   "cell_type": "code",
   "execution_count": 8,
   "metadata": {},
   "outputs": [
    {
     "data": {
      "text/plain": [
       "'models/marian/marian_output/checkpoint-8'"
      ]
     },
     "execution_count": 8,
     "metadata": {},
     "output_type": "execute_result"
    }
   ],
   "source": [
    "new_model_path"
   ]
  },
  {
   "cell_type": "code",
   "execution_count": 9,
   "metadata": {},
   "outputs": [
    {
     "name": "stdout",
     "output_type": "stream",
     "text": [
      "Traceback (most recent call last):\n",
      "  File \"/root/.cache/pypoetry/virtualenvs/zindi-LtLKIbXv-py3.9/bin/ct2-transformers-converter\", line 8, in <module>\n",
      "    sys.exit(main())\n",
      "  File \"/root/.cache/pypoetry/virtualenvs/zindi-LtLKIbXv-py3.9/lib/python3.9/site-packages/ctranslate2/converters/transformers.py\", line 2234, in main\n",
      "    converter.convert_from_args(args)\n",
      "  File \"/root/.cache/pypoetry/virtualenvs/zindi-LtLKIbXv-py3.9/lib/python3.9/site-packages/ctranslate2/converters/converter.py\", line 50, in convert_from_args\n",
      "    return self.convert(\n",
      "  File \"/root/.cache/pypoetry/virtualenvs/zindi-LtLKIbXv-py3.9/lib/python3.9/site-packages/ctranslate2/converters/converter.py\", line 97, in convert\n",
      "    model_spec.validate()\n",
      "  File \"/root/.cache/pypoetry/virtualenvs/zindi-LtLKIbXv-py3.9/lib/python3.9/site-packages/ctranslate2/specs/model_spec.py\", line 532, in validate\n",
      "    raise ValueError(\n",
      "ValueError: Source vocabulary 0 has size 32000 but the model expected a vocabulary of size 59421\n"
     ]
    }
   ],
   "source": [
    "# Convert OpenNMT-py model to CTranslate2\n",
    "!ct2-transformers-converter \\\n",
    "    --model {new_model_path} \\\n",
    "    --output_dir {ct_model_path} \\\n",
    "    --quantization int8 \\\n",
    "    --force"
   ]
  },
  {
   "cell_type": "code",
   "execution_count": 19,
   "metadata": {},
   "outputs": [],
   "source": [
    "### Eval ct\n",
    "!cp {new_model_path}/source.spm {ct_model_path}/\n",
    "!cp {new_model_path}/special_tokens_map.json {ct_model_path}/\n",
    "!cp {new_model_path}/target.spm {ct_model_path}/\n",
    "!cp {new_model_path}/tokenizer_config.json {ct_model_path}/\n",
    "!cp {new_model_path}/vocab.json {ct_model_path}/"
   ]
  },
  {
   "cell_type": "code",
   "execution_count": null,
   "metadata": {},
   "outputs": [],
   "source": []
  }
 ],
 "metadata": {
  "kernelspec": {
   "display_name": "zindi-z3yfXQo9-py3.9",
   "language": "python",
   "name": "python3"
  },
  "language_info": {
   "codemirror_mode": {
    "name": "ipython",
    "version": 3
   },
   "file_extension": ".py",
   "mimetype": "text/x-python",
   "name": "python",
   "nbconvert_exporter": "python",
   "pygments_lexer": "ipython3",
   "version": "3.9.19"
  }
 },
 "nbformat": 4,
 "nbformat_minor": 2
}
