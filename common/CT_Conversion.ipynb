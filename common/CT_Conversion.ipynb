{
 "cells": [
  {
   "cell_type": "code",
   "execution_count": 1,
   "metadata": {},
   "outputs": [],
   "source": [
    "checkpoint_name = \"checkpoint-9\"\n",
    "model=\"models/marian/marian_output/\"+checkpoint_name\n",
    "output_dir=\"models/marian/ct/\"+checkpoint_name"
   ]
  },
  {
   "cell_type": "code",
   "execution_count": 8,
   "metadata": {},
   "outputs": [],
   "source": [
    "# Convert OpenNMT-py model to CTranslate2\n",
    "!ct2-transformers-converter \\\n",
    "    --model {model} \\\n",
    "    --output_dir {output_dir} \\\n",
    "    --quantization int8 \\\n",
    "    --force"
   ]
  },
  {
   "cell_type": "code",
   "execution_count": 3,
   "metadata": {},
   "outputs": [],
   "source": [
    "### Eval ct\n",
    "!cp {model}/source.spm {output_dir}/\n",
    "!cp {model}/special_tokens_map.json {output_dir}/\n",
    "!cp {model}/target.spm {output_dir}/\n",
    "!cp {model}/tokenizer_config.json {output_dir}/\n",
    "!cp {model}/vocab.json {output_dir}/"
   ]
  },
  {
   "cell_type": "code",
   "execution_count": null,
   "metadata": {},
   "outputs": [],
   "source": []
  }
 ],
 "metadata": {
  "kernelspec": {
   "display_name": "zindi-z3yfXQo9-py3.9",
   "language": "python",
   "name": "python3"
  },
  "language_info": {
   "codemirror_mode": {
    "name": "ipython",
    "version": 3
   },
   "file_extension": ".py",
   "mimetype": "text/x-python",
   "name": "python",
   "nbconvert_exporter": "python",
   "pygments_lexer": "ipython3",
   "version": "3.9.5"
  }
 },
 "nbformat": 4,
 "nbformat_minor": 2
}
