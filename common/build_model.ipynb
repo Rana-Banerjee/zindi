{
 "cells": [
  {
   "cell_type": "code",
   "execution_count": 1,
   "metadata": {},
   "outputs": [
    {
     "name": "stderr",
     "output_type": "stream",
     "text": [
      "/home/rana/.cache/pypoetry/virtualenvs/zindi-z3yfXQo9-py3.9/lib/python3.9/site-packages/tqdm/auto.py:21: TqdmWarning: IProgress not found. Please update jupyter and ipywidgets. See https://ipywidgets.readthedocs.io/en/stable/user_install.html\n",
      "  from .autonotebook import tqdm as notebook_tqdm\n"
     ]
    }
   ],
   "source": [
    "import logging\n",
    "import os\n",
    "import sys\n",
    "from dataclasses import dataclass, field\n",
    "from typing import Optional\n",
    "\n",
    "import datasets\n",
    "import evaluate\n",
    "import numpy as np\n",
    "from datasets import load_dataset\n",
    "\n",
    "import transformers\n",
    "from transformers import (\n",
    "    AutoConfig,\n",
    "    AutoModelForSeq2SeqLM,\n",
    "    AutoTokenizer,\n",
    "    DataCollatorForSeq2Seq,\n",
    "    HfArgumentParser,\n",
    "    M2M100Tokenizer,\n",
    "    MBart50Tokenizer,\n",
    "    MBart50TokenizerFast,\n",
    "    MBartTokenizer,\n",
    "    MBartTokenizerFast,\n",
    "    Seq2SeqTrainer,\n",
    "    Seq2SeqTrainingArguments,\n",
    "    default_data_collator,\n",
    "    set_seed,\n",
    ")\n",
    "from transformers.trainer_utils import get_last_checkpoint\n",
    "from transformers.utils import check_min_version, send_example_telemetry\n",
    "from transformers.utils.versions import require_version"
   ]
  },
  {
   "cell_type": "code",
   "execution_count": 6,
   "metadata": {},
   "outputs": [
    {
     "name": "stderr",
     "output_type": "stream",
     "text": [
      "Some weights of MarianMTModel were not initialized from the model checkpoint at /home/rana/Projects/zindi/models/marian/marian_output/checkpoint-1700 and are newly initialized because the shapes did not match:\n",
      "- model.decoder.layers.0.fc1.bias: found shape torch.Size([2048]) in the checkpoint and torch.Size([1024]) in the model instantiated\n",
      "- model.decoder.layers.0.fc1.weight: found shape torch.Size([2048, 512]) in the checkpoint and torch.Size([1024, 512]) in the model instantiated\n",
      "- model.decoder.layers.0.fc2.weight: found shape torch.Size([512, 2048]) in the checkpoint and torch.Size([512, 1024]) in the model instantiated\n",
      "- model.decoder.layers.1.fc1.bias: found shape torch.Size([2048]) in the checkpoint and torch.Size([1024]) in the model instantiated\n",
      "- model.decoder.layers.1.fc1.weight: found shape torch.Size([2048, 512]) in the checkpoint and torch.Size([1024, 512]) in the model instantiated\n",
      "- model.decoder.layers.1.fc2.weight: found shape torch.Size([512, 2048]) in the checkpoint and torch.Size([512, 1024]) in the model instantiated\n",
      "- model.decoder.layers.2.fc1.bias: found shape torch.Size([2048]) in the checkpoint and torch.Size([1024]) in the model instantiated\n",
      "- model.decoder.layers.2.fc1.weight: found shape torch.Size([2048, 512]) in the checkpoint and torch.Size([1024, 512]) in the model instantiated\n",
      "- model.decoder.layers.2.fc2.weight: found shape torch.Size([512, 2048]) in the checkpoint and torch.Size([512, 1024]) in the model instantiated\n",
      "- model.decoder.layers.3.fc1.bias: found shape torch.Size([2048]) in the checkpoint and torch.Size([1024]) in the model instantiated\n",
      "- model.decoder.layers.3.fc1.weight: found shape torch.Size([2048, 512]) in the checkpoint and torch.Size([1024, 512]) in the model instantiated\n",
      "- model.decoder.layers.3.fc2.weight: found shape torch.Size([512, 2048]) in the checkpoint and torch.Size([512, 1024]) in the model instantiated\n",
      "- model.decoder.layers.4.fc1.bias: found shape torch.Size([2048]) in the checkpoint and torch.Size([1024]) in the model instantiated\n",
      "- model.decoder.layers.4.fc1.weight: found shape torch.Size([2048, 512]) in the checkpoint and torch.Size([1024, 512]) in the model instantiated\n",
      "- model.decoder.layers.4.fc2.weight: found shape torch.Size([512, 2048]) in the checkpoint and torch.Size([512, 1024]) in the model instantiated\n",
      "- model.decoder.layers.5.fc1.bias: found shape torch.Size([2048]) in the checkpoint and torch.Size([1024]) in the model instantiated\n",
      "- model.decoder.layers.5.fc1.weight: found shape torch.Size([2048, 512]) in the checkpoint and torch.Size([1024, 512]) in the model instantiated\n",
      "- model.decoder.layers.5.fc2.weight: found shape torch.Size([512, 2048]) in the checkpoint and torch.Size([512, 1024]) in the model instantiated\n",
      "You should probably TRAIN this model on a down-stream task to be able to use it for predictions and inference.\n"
     ]
    }
   ],
   "source": [
    "\n",
    "model = AutoModelForSeq2SeqLM.from_pretrained(model_name,ignore_mismatched_sizes=True)"
   ]
  },
  {
   "cell_type": "code",
   "execution_count": 1,
   "metadata": {},
   "outputs": [],
   "source": [
    "model_name = '/home/rana/Projects/zindi/models/marian/marian_output/checkpoint-1700'"
   ]
  },
  {
   "cell_type": "code",
   "execution_count": 9,
   "metadata": {},
   "outputs": [
    {
     "name": "stdout",
     "output_type": "stream",
     "text": [
      "Using device: cpu\n"
     ]
    },
    {
     "name": "stderr",
     "output_type": "stream",
     "text": [
      "Some weights of MarianMTModel were not initialized from the model checkpoint at /home/rana/Projects/zindi/models/marian/marian_output/checkpoint-1700 and are newly initialized because the shapes did not match:\n",
      "- model.decoder.layers.0.fc1.bias: found shape torch.Size([2048]) in the checkpoint and torch.Size([1024]) in the model instantiated\n",
      "- model.decoder.layers.0.fc1.weight: found shape torch.Size([2048, 512]) in the checkpoint and torch.Size([1024, 512]) in the model instantiated\n",
      "- model.decoder.layers.0.fc2.weight: found shape torch.Size([512, 2048]) in the checkpoint and torch.Size([512, 1024]) in the model instantiated\n",
      "- model.decoder.layers.1.fc1.bias: found shape torch.Size([2048]) in the checkpoint and torch.Size([1024]) in the model instantiated\n",
      "- model.decoder.layers.1.fc1.weight: found shape torch.Size([2048, 512]) in the checkpoint and torch.Size([1024, 512]) in the model instantiated\n",
      "- model.decoder.layers.1.fc2.weight: found shape torch.Size([512, 2048]) in the checkpoint and torch.Size([512, 1024]) in the model instantiated\n",
      "- model.decoder.layers.2.fc1.bias: found shape torch.Size([2048]) in the checkpoint and torch.Size([1024]) in the model instantiated\n",
      "- model.decoder.layers.2.fc1.weight: found shape torch.Size([2048, 512]) in the checkpoint and torch.Size([1024, 512]) in the model instantiated\n",
      "- model.decoder.layers.2.fc2.weight: found shape torch.Size([512, 2048]) in the checkpoint and torch.Size([512, 1024]) in the model instantiated\n",
      "- model.decoder.layers.3.fc1.bias: found shape torch.Size([2048]) in the checkpoint and torch.Size([1024]) in the model instantiated\n",
      "- model.decoder.layers.3.fc1.weight: found shape torch.Size([2048, 512]) in the checkpoint and torch.Size([1024, 512]) in the model instantiated\n",
      "- model.decoder.layers.3.fc2.weight: found shape torch.Size([512, 2048]) in the checkpoint and torch.Size([512, 1024]) in the model instantiated\n",
      "- model.decoder.layers.4.fc1.bias: found shape torch.Size([2048]) in the checkpoint and torch.Size([1024]) in the model instantiated\n",
      "- model.decoder.layers.4.fc1.weight: found shape torch.Size([2048, 512]) in the checkpoint and torch.Size([1024, 512]) in the model instantiated\n",
      "- model.decoder.layers.4.fc2.weight: found shape torch.Size([512, 2048]) in the checkpoint and torch.Size([512, 1024]) in the model instantiated\n",
      "- model.decoder.layers.5.fc1.bias: found shape torch.Size([2048]) in the checkpoint and torch.Size([1024]) in the model instantiated\n",
      "- model.decoder.layers.5.fc1.weight: found shape torch.Size([2048, 512]) in the checkpoint and torch.Size([1024, 512]) in the model instantiated\n",
      "- model.decoder.layers.5.fc2.weight: found shape torch.Size([512, 2048]) in the checkpoint and torch.Size([512, 1024]) in the model instantiated\n",
      "- model.encoder.layers.0.fc1.bias: found shape torch.Size([2048]) in the checkpoint and torch.Size([1024]) in the model instantiated\n",
      "- model.encoder.layers.0.fc1.weight: found shape torch.Size([2048, 512]) in the checkpoint and torch.Size([1024, 512]) in the model instantiated\n",
      "- model.encoder.layers.0.fc2.weight: found shape torch.Size([512, 2048]) in the checkpoint and torch.Size([512, 1024]) in the model instantiated\n",
      "- model.encoder.layers.1.fc1.bias: found shape torch.Size([2048]) in the checkpoint and torch.Size([1024]) in the model instantiated\n",
      "- model.encoder.layers.1.fc1.weight: found shape torch.Size([2048, 512]) in the checkpoint and torch.Size([1024, 512]) in the model instantiated\n",
      "- model.encoder.layers.1.fc2.weight: found shape torch.Size([512, 2048]) in the checkpoint and torch.Size([512, 1024]) in the model instantiated\n",
      "- model.encoder.layers.2.fc1.bias: found shape torch.Size([2048]) in the checkpoint and torch.Size([1024]) in the model instantiated\n",
      "- model.encoder.layers.2.fc1.weight: found shape torch.Size([2048, 512]) in the checkpoint and torch.Size([1024, 512]) in the model instantiated\n",
      "- model.encoder.layers.2.fc2.weight: found shape torch.Size([512, 2048]) in the checkpoint and torch.Size([512, 1024]) in the model instantiated\n",
      "- model.encoder.layers.3.fc1.bias: found shape torch.Size([2048]) in the checkpoint and torch.Size([1024]) in the model instantiated\n",
      "- model.encoder.layers.3.fc1.weight: found shape torch.Size([2048, 512]) in the checkpoint and torch.Size([1024, 512]) in the model instantiated\n",
      "- model.encoder.layers.3.fc2.weight: found shape torch.Size([512, 2048]) in the checkpoint and torch.Size([512, 1024]) in the model instantiated\n",
      "- model.encoder.layers.4.fc1.bias: found shape torch.Size([2048]) in the checkpoint and torch.Size([1024]) in the model instantiated\n",
      "- model.encoder.layers.4.fc1.weight: found shape torch.Size([2048, 512]) in the checkpoint and torch.Size([1024, 512]) in the model instantiated\n",
      "- model.encoder.layers.4.fc2.weight: found shape torch.Size([512, 2048]) in the checkpoint and torch.Size([512, 1024]) in the model instantiated\n",
      "- model.encoder.layers.5.fc1.bias: found shape torch.Size([2048]) in the checkpoint and torch.Size([1024]) in the model instantiated\n",
      "- model.encoder.layers.5.fc1.weight: found shape torch.Size([2048, 512]) in the checkpoint and torch.Size([1024, 512]) in the model instantiated\n",
      "- model.encoder.layers.5.fc2.weight: found shape torch.Size([512, 2048]) in the checkpoint and torch.Size([512, 1024]) in the model instantiated\n",
      "You should probably TRAIN this model on a down-stream task to be able to use it for predictions and inference.\n",
      "Translating:   0%|          | 0/1471 [01:13<?, ?it/s]"
     ]
    },
    {
     "name": "stdout",
     "output_type": "stream",
     "text": [
      "Tu portes un nom de fantaisie.\n",
      "si s s s s s s s s s s s s s s s s s s s s s s s s s s s s s s s s s s s s s s s s s s s s s s s s s s s s s s s s s s s s s s s s s s s s s s s s s s s s s s s s s s s s s s s s s s s s s s s s s s s s s s s s s s s s s s s s s s s s s s s s s s s s s s s s s s s s s s s s s s s s s s s s s s s s s s s s s s s s s s s s s s s s s s s s s s s s s s s s s s s s s s s s s s s s s s s s s s s s s s s s s s s s s s s s s s s s s s s s s s s s s s s s s s s s s s s s s s s s s s s s s s s s s s s s s s s s s s s s s s s s s s s s s s s s s s s s s s s s s s s s s s s s s s s s s s s s s s s s s s s s s s s s s s s s s s s s s s s s s s s s s s s s s s s s s s s s s s s s s s s s s s s s s s s s s s s s s s s s s s s s s s s s s s s s s s s s s s s s s s s s s s s s s s s s s s s s s s s s s s s s s s s s s s s s s s s s s s s s s s s s s s s s s s s s s s s s s s s s s s s s s s s s s s s s s s s s s s s s s s s s s s s s s s s s s s s s s s s s s s s s s s s s s s s s s s s s s s s s s s s s s s s s s s s s s\n",
      "BLEU Score: 0.00\n"
     ]
    },
    {
     "name": "stderr",
     "output_type": "stream",
     "text": [
      "\n"
     ]
    }
   ],
   "source": [
    "import tqdm as notebook_tqdm\n",
    "import torch\n",
    "from transformers import AutoTokenizer, AutoModelForSeq2SeqLM\n",
    "from datasets import load_dataset\n",
    "from sacrebleu.metrics import BLEU\n",
    "from tqdm import tqdm\n",
    "\n",
    "def translate(model, tokenizer, text, device):\n",
    "    inputs = tokenizer(text, return_tensors=\"pt\", padding=True, truncation=True, max_length=150).to(device)\n",
    "    translated = model.generate(**inputs)\n",
    "    return tokenizer.batch_decode(translated, skip_special_tokens=True)\n",
    "\n",
    "def calculate_bleu(references, hypotheses):\n",
    "    bleu = BLEU()\n",
    "    return bleu.corpus_score(hypotheses, [references]).score\n",
    "\n",
    "def validate_model(model_name, dataset_name, split):\n",
    "    device = torch.device(\"cuda\" if torch.cuda.is_available() else \"cpu\")\n",
    "    print(f\"Using device: {device}\")\n",
    "\n",
    "    # Load model and tokenizer\n",
    "    tokenizer = AutoTokenizer.from_pretrained(model_name)\n",
    "    model = AutoModelForSeq2SeqLM.from_pretrained(model_name,ignore_mismatched_sizes=True).to(device)\n",
    "\n",
    "    # Load dataset\n",
    "    dataset = load_dataset(dataset_name, split=split)\n",
    "\n",
    "    # Translate and calculate BLEU score\n",
    "    hypotheses = []\n",
    "    references = []\n",
    "\n",
    "    for batch in tqdm(dataset, desc=\"Translating\"):\n",
    "        source_text = batch['translation']['dyu']  # Adjust this based on your dataset's column names\n",
    "        reference = batch['translation']['fr']  # Adjust this based on your dataset's column names\n",
    "\n",
    "        # source_text.insert(0,\"dyu\")\n",
    "        # source_text.append(\"<\\s>\")\n",
    "        # source_text.append(\"fr\")\n",
    "        \n",
    "        translation = translate(model, tokenizer, \"dyu \" + source_text + \" <\\s> fr \", device)[0]\n",
    "        print(reference)\n",
    "        print(translation)\n",
    "        \n",
    "        hypotheses.append(translation)\n",
    "        references.append(reference)\n",
    "        break\n",
    "\n",
    "    bleu_score = calculate_bleu(references, hypotheses)\n",
    "    print(f\"BLEU Score: {bleu_score:.2f}\")\n",
    "\n",
    "# Run validation with GPU\n",
    "# validate_model(model_checkpoint, \"uvci/Koumankan_mt_dyu_fr\", use_gpu=True)\n",
    "\n",
    "# Run validation without GPU\n",
    "validate_model(model_name, \"uvci/Koumankan_mt_dyu_fr\", \"validation\")"
   ]
  },
  {
   "cell_type": "code",
   "execution_count": null,
   "metadata": {},
   "outputs": [],
   "source": []
  }
 ],
 "metadata": {
  "kernelspec": {
   "display_name": "zindi-z3yfXQo9-py3.9",
   "language": "python",
   "name": "python3"
  },
  "language_info": {
   "codemirror_mode": {
    "name": "ipython",
    "version": 3
   },
   "file_extension": ".py",
   "mimetype": "text/x-python",
   "name": "python",
   "nbconvert_exporter": "python",
   "pygments_lexer": "ipython3",
   "version": "3.9.5"
  }
 },
 "nbformat": 4,
 "nbformat_minor": 2
}
