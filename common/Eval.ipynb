{
 "cells": [
  {
   "cell_type": "code",
   "execution_count": 21,
   "metadata": {},
   "outputs": [],
   "source": [
    "checkpoint=\"checkpoint-100\"\n",
    "model_checkpoint=\"/root/zindi/models/marian/marian_output/\"+checkpoint\n",
    "model_checkpoint_ct=\"/root/zindi/models/marian/ct/\"+checkpoint"
   ]
  },
  {
   "cell_type": "code",
   "execution_count": 22,
   "metadata": {},
   "outputs": [],
   "source": [
    "import tqdm as notebook_tqdm"
   ]
  },
  {
   "cell_type": "code",
   "execution_count": 12,
   "metadata": {},
   "outputs": [
    {
     "name": "stdout",
     "output_type": "stream",
     "text": [
      "Using device: cuda\n"
     ]
    },
    {
     "name": "stderr",
     "output_type": "stream",
     "text": [
      "Translating: 100%|██████████| 1471/1471 [02:23<00:00, 10.24it/s]"
     ]
    },
    {
     "name": "stdout",
     "output_type": "stream",
     "text": [
      "BLEU Score: 6.21\n"
     ]
    },
    {
     "name": "stderr",
     "output_type": "stream",
     "text": [
      "\n"
     ]
    }
   ],
   "source": [
    "### Eval original model \n",
    "import torch\n",
    "from transformers import AutoTokenizer, AutoModelForSeq2SeqLM\n",
    "from datasets import load_dataset\n",
    "from sacrebleu.metrics import BLEU\n",
    "from tqdm import tqdm\n",
    "\n",
    "def translate(model, tokenizer, text, device):\n",
    "    inputs = tokenizer(text, return_tensors=\"pt\", padding=True, truncation=True, max_length=150).to(device)\n",
    "    translated = model.generate(**inputs)\n",
    "    return tokenizer.batch_decode(translated, skip_special_tokens=True)\n",
    "\n",
    "def calculate_bleu(references, hypotheses):\n",
    "    bleu = BLEU()\n",
    "    return bleu.corpus_score(hypotheses, [references]).score\n",
    "\n",
    "def validate_model(model_name, dataset_name):\n",
    "    device = torch.device(\"cuda\" if torch.cuda.is_available() else \"cpu\")\n",
    "    print(f\"Using device: {device}\")\n",
    "\n",
    "    # Load model and tokenizer\n",
    "    tokenizer = AutoTokenizer.from_pretrained(model_name)\n",
    "    model = AutoModelForSeq2SeqLM.from_pretrained(model_name).to(device)\n",
    "\n",
    "    # Load dataset\n",
    "    dataset = load_dataset(dataset_name, split=\"validation\")\n",
    "\n",
    "    # Translate and calculate BLEU score\n",
    "    hypotheses = []\n",
    "    references = []\n",
    "\n",
    "    for batch in tqdm(dataset, desc=\"Translating\"):\n",
    "        source_text = batch['translation']['dyu']  # Adjust this based on your dataset's column names\n",
    "        reference = batch['translation']['fr']  # Adjust this based on your dataset's column names\n",
    "        \n",
    "        translation = translate(model, tokenizer, source_text, device)[0]\n",
    "        # print(reference)\n",
    "        # print(translation)\n",
    "        \n",
    "        hypotheses.append(translation)\n",
    "        references.append(reference)\n",
    "        # break\n",
    "\n",
    "    bleu_score = calculate_bleu(references, hypotheses)\n",
    "    print(f\"BLEU Score: {bleu_score:.2f}\")\n",
    "\n",
    "# Run validation with GPU\n",
    "# validate_model(model_checkpoint, \"uvci/Koumankan_mt_dyu_fr\", use_gpu=True)\n",
    "\n",
    "# Run validation without GPU\n",
    "validate_model(model_checkpoint, \"uvci/Koumankan_mt_dyu_fr\")"
   ]
  },
  {
   "cell_type": "code",
   "execution_count": 23,
   "metadata": {},
   "outputs": [
    {
     "name": "stdout",
     "output_type": "stream",
     "text": [
      "Using device: cuda\n"
     ]
    },
    {
     "name": "stderr",
     "output_type": "stream",
     "text": [
      "Translating: 100%|██████████| 1471/1471 [00:34<00:00, 42.91it/s]\n"
     ]
    },
    {
     "name": "stdout",
     "output_type": "stream",
     "text": [
      "BLEU Score: 4.78\n"
     ]
    }
   ],
   "source": [
    "### Eval ct model\n",
    "# import torch\n",
    "# from transformers import AutoTokenizer\n",
    "import sentencepiece as spm\n",
    "import ctranslate2\n",
    "from datasets import load_dataset\n",
    "from sacrebleu.metrics import BLEU\n",
    "from tqdm import tqdm\n",
    "\n",
    "\n",
    "device = \"cuda\" if torch.cuda.is_available() else \"cpu\"\n",
    "print(f\"Using device: {device}\")\n",
    "\n",
    "sp_source_model = spm.SentencePieceProcessor(model_file=model_checkpoint_ct+'/source.spm')\n",
    "sp_target_model = spm.SentencePieceProcessor(model_file=model_checkpoint_ct+'/target.spm')\n",
    "\n",
    "\n",
    "def translate(translator, text):\n",
    "    tokens = sp_source_model.encode(text, out_type=str)\n",
    "    # print(tokens)\n",
    "    tokens = ['dyu'] + tokens + [\"</s>\"] +['fr']\n",
    "    try:\n",
    "        results = translator.translate_batch([tokens])\n",
    "        # The translated results are token strings, so we need to convert them to IDs before decoding\n",
    "        translations = []\n",
    "        for translation in results:\n",
    "            decoded_text = sp_target_model.decode(translation.hypotheses[0])\n",
    "            translations.append(decoded_text)\n",
    "    except Exception as e:\n",
    "        print(f\"Translation error: {e}\")\n",
    "        translations = [\"\"]  # Return empty string if translation fails\n",
    "    return translations\n",
    "\n",
    "def calculate_bleu(references, hypotheses):\n",
    "    bleu = BLEU()\n",
    "    return bleu.corpus_score(hypotheses, [references]).score\n",
    "\n",
    "def validate_model(model_path, dataset_name):\n",
    "    # Load CTranslate2 model\n",
    "    translator = ctranslate2.Translator(model_path, device=device)\n",
    "    # Load dataset\n",
    "    dataset = load_dataset(dataset_name, split=\"validation\")\n",
    "    # Translate and calculate BLEU score\n",
    "    hypotheses = []\n",
    "    references = []\n",
    "\n",
    "    for batch in tqdm(dataset, desc=\"Translating\"):\n",
    "        source_text = batch['translation']['dyu']  # Adjust this based on your dataset's column names\n",
    "        reference = batch['translation']['fr']  # Adjust this based on your dataset's column names\n",
    "        \n",
    "        # translation = translate(translator, tokenizer, source_text, device)[0]\n",
    "        # tokenizer=None\n",
    "        translation = translate(translator, source_text)[0]\n",
    "        hypotheses.append(translation)\n",
    "        references.append(reference)\n",
    "        # print(hypotheses,\"----\", reference)\n",
    "        # print(translation, \"----\", reference)\n",
    "        # break\n",
    "\n",
    "    bleu_score = calculate_bleu(references, hypotheses)\n",
    "    print(f\"BLEU Score: {bleu_score:.2f}\")\n",
    "\n",
    "validate_model(model_checkpoint_ct, \"uvci/Koumankan_mt_dyu_fr\")"
   ]
  },
  {
   "cell_type": "markdown",
   "metadata": {},
   "source": []
  },
  {
   "cell_type": "code",
   "execution_count": null,
   "metadata": {},
   "outputs": [],
   "source": []
  }
 ],
 "metadata": {
  "kernelspec": {
   "display_name": "zindi-z3yfXQo9-py3.9",
   "language": "python",
   "name": "python3"
  },
  "language_info": {
   "codemirror_mode": {
    "name": "ipython",
    "version": 3
   },
   "file_extension": ".py",
   "mimetype": "text/x-python",
   "name": "python",
   "nbconvert_exporter": "python",
   "pygments_lexer": "ipython3",
   "version": "3.9.19"
  }
 },
 "nbformat": 4,
 "nbformat_minor": 2
}
