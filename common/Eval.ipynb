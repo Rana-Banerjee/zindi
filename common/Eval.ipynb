{
 "cells": [
  {
   "cell_type": "code",
   "execution_count": 1,
   "metadata": {},
   "outputs": [
    {
     "name": "stderr",
     "output_type": "stream",
     "text": [
      "/home/rana/.cache/pypoetry/virtualenvs/zindi-z3yfXQo9-py3.9/lib/python3.9/site-packages/IPython/core/magics/osm.py:417: UserWarning: using dhist requires you to install the `pickleshare` library.\n",
      "  self.shell.db['dhist'] = compress_dhist(dhist)[-100:]\n"
     ]
    },
    {
     "name": "stdout",
     "output_type": "stream",
     "text": [
      "/home/rana/Projects/zindi\n"
     ]
    }
   ],
   "source": [
    "%cd /home/rana/Projects/zindi\n",
    "import yaml\n",
    "with open('common/config.yaml', 'r') as f:\n",
    "    config = yaml.load(f, Loader=yaml.SafeLoader)"
   ]
  },
  {
   "cell_type": "code",
   "execution_count": 2,
   "metadata": {},
   "outputs": [],
   "source": [
    "checkpoint = config.get('checkpoint')\n",
    "new_model_path=config.get('new_model_path')+checkpoint\n",
    "ct_model_path=config.get('ct_model_path')+checkpoint\n",
    "\n",
    "# model_checkpoint=\"/root/zindi/models/marian/marian_output/\"+checkpoint\n",
    "# model_checkpoint_ct=\"/root/zindi/models/marian/ct/\"+checkpoint"
   ]
  },
  {
   "cell_type": "code",
   "execution_count": 5,
   "metadata": {},
   "outputs": [],
   "source": [
    "import tqdm as notebook_tqdm\n",
    "import torch\n",
    "from transformers import AutoTokenizer, AutoModelForSeq2SeqLM\n",
    "from datasets import load_dataset\n",
    "from sacrebleu.metrics import BLEU\n",
    "from tqdm import tqdm"
   ]
  },
  {
   "cell_type": "code",
   "execution_count": null,
   "metadata": {},
   "outputs": [],
   "source": [
    "### Eval original model \n",
    "\n",
    "def translate(model, tokenizer, text, device):\n",
    "    inputs = tokenizer(text, return_tensors=\"pt\", padding=True, truncation=True, max_length=150).to(device)\n",
    "    translated = model.generate(**inputs)\n",
    "    return tokenizer.batch_decode(translated, skip_special_tokens=True)\n",
    "\n",
    "def calculate_bleu(references, hypotheses):\n",
    "    bleu = BLEU()\n",
    "    return bleu.corpus_score(hypotheses, [references]).score\n",
    "\n",
    "def validate_model(model_name, dataset_name, split):\n",
    "    device = torch.device(\"cuda\" if torch.cuda.is_available() else \"cpu\")\n",
    "    print(f\"Using device: {device}\")\n",
    "\n",
    "    # Load model and tokenizer\n",
    "    tokenizer = AutoTokenizer.from_pretrained(model_name)\n",
    "    model = AutoModelForSeq2SeqLM.from_pretrained(model_name).to(device)\n",
    "\n",
    "    # Load dataset\n",
    "    dataset = load_dataset(dataset_name, split=split)\n",
    "\n",
    "    # Translate and calculate BLEU score\n",
    "    hypotheses = []\n",
    "    references = []\n",
    "\n",
    "    for batch in tqdm(dataset, desc=\"Translating\"):\n",
    "        source_text = batch['translation']['dyu']  # Adjust this based on your dataset's column names\n",
    "        reference = batch['translation']['fr']  # Adjust this based on your dataset's column names\n",
    "        \n",
    "        translation = translate(model, tokenizer, source_text, device)[0]\n",
    "        print(reference)\n",
    "        print(translation)\n",
    "        \n",
    "        hypotheses.append(translation)\n",
    "        references.append(reference)\n",
    "        # break\n",
    "\n",
    "    bleu_score = calculate_bleu(references, hypotheses)\n",
    "    print(f\"BLEU Score: {bleu_score:.2f}\")\n",
    "\n",
    "# Run validation with GPU\n",
    "# validate_model(model_checkpoint, \"uvci/Koumankan_mt_dyu_fr\", use_gpu=True)\n",
    "\n",
    "# Run validation without GPU\n",
    "validate_model(new_model_path, \"uvci/Koumankan_mt_dyu_fr\", \"validation\")"
   ]
  },
  {
   "cell_type": "code",
   "execution_count": 6,
   "metadata": {},
   "outputs": [
    {
     "name": "stdout",
     "output_type": "stream",
     "text": [
      "Using device: cpu\n"
     ]
    },
    {
     "name": "stderr",
     "output_type": "stream",
     "text": [
      "Translating:   0%|          | 2/8065 [00:00<36:30,  3.68it/s]"
     ]
    },
    {
     "name": "stdout",
     "output_type": "stream",
     "text": [
      "Il boit de l ⁇ eau. ---- Il boit de l’eau.\n",
      "Il se plaint toujours. ---- Il se plaint toujours.\n"
     ]
    },
    {
     "name": "stderr",
     "output_type": "stream",
     "text": [
      "Translating:   0%|          | 4/8065 [00:00<26:31,  5.07it/s]"
     ]
    },
    {
     "name": "stdout",
     "output_type": "stream",
     "text": [
      "Quoi ? Quelque chose. ---- Quoi ? Quelque chose.\n",
      "Tous sortent excepté Gubetta. ---- Tous sortent excepté Gubetta.\n"
     ]
    },
    {
     "name": "stderr",
     "output_type": "stream",
     "text": [
      "Translating:   0%|          | 6/8065 [00:01<24:47,  5.42it/s]"
     ]
    },
    {
     "name": "stdout",
     "output_type": "stream",
     "text": [
      "Ah ! c ⁇ est lui... il sonne... ---- Ah ! c’est lui… il sonne…\n",
      "Et sans rapport. ---- Et sans rapport.\n"
     ]
    },
    {
     "name": "stderr",
     "output_type": "stream",
     "text": [
      "Translating:   0%|          | 8/8065 [00:01<24:54,  5.39it/s]"
     ]
    },
    {
     "name": "stdout",
     "output_type": "stream",
     "text": [
      "J'ai suffisamment d'or. ---- J'ai suffisamment d'or.\n",
      "Oui ; mais dans quel but ? ---- Oui ; mais dans quel but ?\n"
     ]
    },
    {
     "name": "stderr",
     "output_type": "stream",
     "text": [
      "Translating:   0%|          | 9/8065 [00:01<25:10,  5.33it/s]"
     ]
    },
    {
     "name": "stdout",
     "output_type": "stream",
     "text": [
      "de grands gars forts. ---- de grands gars forts.\n"
     ]
    },
    {
     "name": "stderr",
     "output_type": "stream",
     "text": [
      "Translating:   0%|          | 11/8065 [00:02<29:15,  4.59it/s]"
     ]
    },
    {
     "name": "stdout",
     "output_type": "stream",
     "text": [
      "Un civil a été capturé?! ---- Un civil a été capturé?!\n",
      "D ⁇ autres chaises. ---- D’autres chaises.\n"
     ]
    },
    {
     "name": "stderr",
     "output_type": "stream",
     "text": [
      "Translating:   0%|          | 12/8065 [00:02<26:31,  5.06it/s]"
     ]
    },
    {
     "name": "stdout",
     "output_type": "stream",
     "text": [
      "Quarante-sept renards. ---- Quarante-sept renards.\n"
     ]
    },
    {
     "name": "stderr",
     "output_type": "stream",
     "text": [
      "Translating:   0%|          | 13/8065 [00:02<29:00,  4.63it/s]"
     ]
    },
    {
     "name": "stdout",
     "output_type": "stream",
     "text": [
      "Qui a bouché les toilettes? ---- Qui a bouché les toilettes?\n"
     ]
    },
    {
     "name": "stderr",
     "output_type": "stream",
     "text": [
      "Translating:   0%|          | 14/8065 [00:03<49:22,  2.72it/s]"
     ]
    },
    {
     "name": "stdout",
     "output_type": "stream",
     "text": [
      "Alors, vous me chassez ? ---- Alors, vous me chassez ?\n"
     ]
    },
    {
     "name": "stderr",
     "output_type": "stream",
     "text": [
      "Translating:   0%|          | 15/8065 [00:03<48:11,  2.78it/s]"
     ]
    },
    {
     "name": "stdout",
     "output_type": "stream",
     "text": [
      "j'aime ce livre. ---- j'aime ce livre.\n"
     ]
    },
    {
     "name": "stderr",
     "output_type": "stream",
     "text": [
      "Translating:   0%|          | 17/8065 [00:04<40:36,  3.30it/s]"
     ]
    },
    {
     "name": "stdout",
     "output_type": "stream",
     "text": [
      "Elle sort par le fond. ---- Elle sort par le fond.\n",
      "Achète les trois couleurs. ---- Achète les trois couleurs.\n"
     ]
    },
    {
     "name": "stderr",
     "output_type": "stream",
     "text": [
      "Translating:   0%|          | 19/8065 [00:04<33:05,  4.05it/s]"
     ]
    },
    {
     "name": "stdout",
     "output_type": "stream",
     "text": [
      "J'ai fait une erreur. ---- J'ai fait une erreur.\n",
      "Surtout pas trop tôt. ---- Surtout pas trop tôt.\n"
     ]
    },
    {
     "name": "stderr",
     "output_type": "stream",
     "text": [
      "Translating:   0%|          | 20/8065 [00:05<36:48,  3.64it/s]"
     ]
    },
    {
     "name": "stdout",
     "output_type": "stream",
     "text": [
      "Et moi, ça me fait des chinois... ---- Et moi, ça me fait des peurs…\n"
     ]
    },
    {
     "name": "stderr",
     "output_type": "stream",
     "text": [
      "Translating:   0%|          | 21/8065 [00:05<37:11,  3.60it/s]"
     ]
    },
    {
     "name": "stdout",
     "output_type": "stream",
     "text": [
      "Quelle jolie maison ! ---- Quelle jolie maison !\n"
     ]
    },
    {
     "name": "stderr",
     "output_type": "stream",
     "text": [
      "Translating:   0%|          | 23/8065 [00:05<33:46,  3.97it/s]"
     ]
    },
    {
     "name": "stdout",
     "output_type": "stream",
     "text": [
      "Il s ⁇ en est tiré. ---- Il s’en est tiré.\n",
      "Qui a éteint la lumière ? ---- Qui a éteint la lumière ?\n"
     ]
    },
    {
     "name": "stderr",
     "output_type": "stream",
     "text": [
      "Translating:   0%|          | 25/8065 [00:06<29:35,  4.53it/s]"
     ]
    },
    {
     "name": "stdout",
     "output_type": "stream",
     "text": [
      "Il ne peut pas faire plus. ---- Il ne peut pas faire plus.\n",
      "Il est présent en France. ---- Il est présent en France.\n"
     ]
    },
    {
     "name": "stderr",
     "output_type": "stream",
     "text": [
      "Translating:   0%|          | 26/8065 [00:06<29:50,  4.49it/s]"
     ]
    },
    {
     "name": "stdout",
     "output_type": "stream",
     "text": [
      "Il pratiquait le baseball. ---- Il pratiquait le baseball.\n"
     ]
    },
    {
     "name": "stderr",
     "output_type": "stream",
     "text": [
      "Translating:   0%|          | 28/8065 [00:07<33:24,  4.01it/s]"
     ]
    },
    {
     "name": "stdout",
     "output_type": "stream",
     "text": [
      "Le commissaire lève la tête. ---- Le commissaire lève la tête.\n",
      "Nous rentrerons dans la nuit. ---- Nous rentrerons dans la nuit.\n"
     ]
    },
    {
     "name": "stderr",
     "output_type": "stream",
     "text": [
      "Translating:   0%|          | 30/8065 [00:07<29:32,  4.53it/s]"
     ]
    },
    {
     "name": "stdout",
     "output_type": "stream",
     "text": [
      "T ⁇ as encore bien fait... ---- T’as encore bien fait…\n",
      "Je ne veux pas !... ---- Je ne veux pas !…\n"
     ]
    },
    {
     "name": "stderr",
     "output_type": "stream",
     "text": [
      "Translating:   0%|          | 32/8065 [00:07<24:33,  5.45it/s]"
     ]
    },
    {
     "name": "stdout",
     "output_type": "stream",
     "text": [
      "Nous avions eu peur. ---- Nous avions eu peur.\n",
      "Une vingtaine de joueurs. ---- Une vingtaine de joueurs.\n"
     ]
    },
    {
     "name": "stderr",
     "output_type": "stream",
     "text": [
      "Translating:   0%|          | 33/8065 [00:07<26:59,  4.96it/s]"
     ]
    },
    {
     "name": "stdout",
     "output_type": "stream",
     "text": [
      "Vous devriez avoir honte. ---- Vous devriez avoir honte.\n"
     ]
    },
    {
     "name": "stderr",
     "output_type": "stream",
     "text": [
      "Translating:   0%|          | 34/8065 [00:08<27:20,  4.90it/s]"
     ]
    },
    {
     "name": "stdout",
     "output_type": "stream",
     "text": [
      "le temps est froid. ---- le temps est froid.\n"
     ]
    },
    {
     "name": "stderr",
     "output_type": "stream",
     "text": [
      "Translating:   0%|          | 35/8065 [00:08<27:27,  4.87it/s]"
     ]
    },
    {
     "name": "stdout",
     "output_type": "stream",
     "text": [
      "Il y a de l'eau ? ---- Il y a de l'eau ?\n"
     ]
    },
    {
     "name": "stderr",
     "output_type": "stream",
     "text": [
      "Translating:   0%|          | 37/8065 [00:08<27:18,  4.90it/s]"
     ]
    },
    {
     "name": "stdout",
     "output_type": "stream",
     "text": [
      "elle est debout. ---- elle est debout.\n",
      "Quel métier faites-vous ? ---- Quel métier faites-vous ?\n"
     ]
    },
    {
     "name": "stderr",
     "output_type": "stream",
     "text": [
      "Translating:   0%|          | 39/8065 [00:09<27:17,  4.90it/s]"
     ]
    },
    {
     "name": "stdout",
     "output_type": "stream",
     "text": [
      "Cet enfant a les yeux bleus. ---- Cet enfant a les yeux bleus.\n",
      "C ⁇ est l ⁇ habitude. ---- C’est l’habitude.\n"
     ]
    },
    {
     "name": "stderr",
     "output_type": "stream",
     "text": [
      "Translating:   0%|          | 40/8065 [00:09<26:20,  5.08it/s]"
     ]
    },
    {
     "name": "stdout",
     "output_type": "stream",
     "text": [
      "Tout cela demande du temps. ---- Tout cela demande du temps.\n"
     ]
    },
    {
     "name": "stderr",
     "output_type": "stream",
     "text": [
      "Translating:   1%|          | 41/8065 [00:09<35:36,  3.76it/s]"
     ]
    },
    {
     "name": "stdout",
     "output_type": "stream",
     "text": [
      "La femme est son sujet favori. ---- La femme est son sujet favori.\n"
     ]
    },
    {
     "name": "stderr",
     "output_type": "stream",
     "text": [
      "Translating:   1%|          | 42/8065 [00:10<34:33,  3.87it/s]"
     ]
    },
    {
     "name": "stdout",
     "output_type": "stream",
     "text": [
      "Celle-ci a disparu. ---- Celle-ci a disparu.\n"
     ]
    },
    {
     "name": "stderr",
     "output_type": "stream",
     "text": [
      "Translating:   1%|          | 43/8065 [00:10<39:38,  3.37it/s]"
     ]
    },
    {
     "name": "stdout",
     "output_type": "stream",
     "text": [
      "Va-t'en, je vais m'habiller. ---- Va-t'en, je vais m'habiller.\n"
     ]
    },
    {
     "name": "stderr",
     "output_type": "stream",
     "text": [
      "Translating:   1%|          | 44/8065 [00:10<36:07,  3.70it/s]"
     ]
    },
    {
     "name": "stdout",
     "output_type": "stream",
     "text": [
      "tu es sûr qu'on aimerait. ---- tu es sûr qu'on aimerait.\n"
     ]
    },
    {
     "name": "stderr",
     "output_type": "stream",
     "text": [
      "Translating:   1%|          | 45/8065 [00:10<35:31,  3.76it/s]"
     ]
    },
    {
     "name": "stdout",
     "output_type": "stream",
     "text": [
      "À ses risques et périls... ---- À ses risques et périls...\n"
     ]
    },
    {
     "name": "stderr",
     "output_type": "stream",
     "text": [
      "Translating:   1%|          | 46/8065 [00:11<34:54,  3.83it/s]"
     ]
    },
    {
     "name": "stdout",
     "output_type": "stream",
     "text": [
      "Ce cadeau est à toi et à moi. ---- Ce cadeau est à toi et à moi.\n"
     ]
    },
    {
     "name": "stderr",
     "output_type": "stream",
     "text": [
      "Translating:   1%|          | 48/8065 [00:11<31:46,  4.21it/s]"
     ]
    },
    {
     "name": "stdout",
     "output_type": "stream",
     "text": [
      "Ce n ⁇ est pas la question. ---- Ce n’est pas la question.\n",
      "Ce que cela peut faire ?... ---- Ce que cela peut faire ?…\n"
     ]
    },
    {
     "name": "stderr",
     "output_type": "stream",
     "text": [
      "Translating:   1%|          | 50/8065 [00:11<27:35,  4.84it/s]"
     ]
    },
    {
     "name": "stdout",
     "output_type": "stream",
     "text": [
      "nous, nous lisons. ---- nous, nous lisons.\n",
      "Quel charlatan tu ferais !... ---- Quel charlatan tu ferais !…\n"
     ]
    },
    {
     "name": "stderr",
     "output_type": "stream",
     "text": [
      "Translating:   1%|          | 52/8065 [00:12<25:34,  5.22it/s]"
     ]
    },
    {
     "name": "stdout",
     "output_type": "stream",
     "text": [
      "Belle proposition en effet ---- Belle proposition en effet\n",
      "Il a été très frappé. ---- Il a été très frappé.\n"
     ]
    },
    {
     "name": "stderr",
     "output_type": "stream",
     "text": [
      "Translating:   1%|          | 53/8065 [00:12<30:20,  4.40it/s]"
     ]
    },
    {
     "name": "stdout",
     "output_type": "stream",
     "text": [
      "Tu peux tenir mon doudou? ---- Tu peux tenir mon doudou?\n"
     ]
    },
    {
     "name": "stderr",
     "output_type": "stream",
     "text": [
      "Translating:   1%|          | 55/8065 [00:13<28:52,  4.62it/s]"
     ]
    },
    {
     "name": "stdout",
     "output_type": "stream",
     "text": [
      "Delliponti a un petit frère. ---- Delliponti a un petit frère.\n",
      "Soixante et onze. ---- Soixante et onze.\n"
     ]
    },
    {
     "name": "stderr",
     "output_type": "stream",
     "text": [
      "Translating:   1%|          | 57/8065 [00:13<31:40,  4.21it/s]"
     ]
    },
    {
     "name": "stdout",
     "output_type": "stream",
     "text": [
      "Je ferai la route à pied. ---- Je ferai la route à pied.\n",
      "Bientôt il éleva le ton. ---- Bientôt il éleva le ton.\n"
     ]
    },
    {
     "name": "stderr",
     "output_type": "stream",
     "text": [
      "Translating:   1%|          | 59/8065 [00:13<28:23,  4.70it/s]"
     ]
    },
    {
     "name": "stdout",
     "output_type": "stream",
     "text": [
      "On se fait un italien? ---- On se fait un italien?\n",
      "Quelle négligence, se dit-il. ---- Quelle négligence, se dit-il.\n"
     ]
    },
    {
     "name": "stderr",
     "output_type": "stream",
     "text": [
      "Translating:   1%|          | 61/8065 [00:14<26:58,  4.94it/s]"
     ]
    },
    {
     "name": "stdout",
     "output_type": "stream",
     "text": [
      "Ça ne compte pas. ---- Ça ne compte pas.\n",
      "Je ne comprends pas !... ---- Je ne comprends pas !…\n"
     ]
    },
    {
     "name": "stderr",
     "output_type": "stream",
     "text": [
      "Translating:   1%|          | 62/8065 [00:14<29:06,  4.58it/s]"
     ]
    },
    {
     "name": "stdout",
     "output_type": "stream",
     "text": [
      "Son siège est Brookings. ---- Son siège est Brookings.\n"
     ]
    },
    {
     "name": "stderr",
     "output_type": "stream",
     "text": [
      "Translating:   1%|          | 63/8065 [00:14<31:30,  4.23it/s]"
     ]
    },
    {
     "name": "stdout",
     "output_type": "stream",
     "text": [
      "Micheline m ⁇ a tout dit. ---- Micheline m’a tout dit.\n"
     ]
    },
    {
     "name": "stderr",
     "output_type": "stream",
     "text": [
      "Translating:   1%|          | 64/8065 [00:15<31:24,  4.25it/s]"
     ]
    },
    {
     "name": "stdout",
     "output_type": "stream",
     "text": [
      "Tu avais promis de m ⁇ attendre. ---- Tu avais promis de m’attendre.\n"
     ]
    },
    {
     "name": "stderr",
     "output_type": "stream",
     "text": [
      "Translating:   1%|          | 65/8065 [00:15<32:24,  4.12it/s]"
     ]
    },
    {
     "name": "stdout",
     "output_type": "stream",
     "text": [
      "Je pars à Salem demain soir. ---- Je pars à Salem demain soir.\n"
     ]
    },
    {
     "name": "stderr",
     "output_type": "stream",
     "text": [
      "Translating:   1%|          | 66/8065 [00:15<31:11,  4.28it/s]"
     ]
    },
    {
     "name": "stdout",
     "output_type": "stream",
     "text": [
      "Elle est admirable. ---- Elle est admirable.\n"
     ]
    },
    {
     "name": "stderr",
     "output_type": "stream",
     "text": [
      "Translating:   1%|          | 68/8065 [00:15<27:41,  4.81it/s]"
     ]
    },
    {
     "name": "stdout",
     "output_type": "stream",
     "text": [
      "Que c ⁇ est froid ! ---- Que c’est froid !\n",
      "Elle jouait avec eux. ---- Il jouait avec eux.\n"
     ]
    },
    {
     "name": "stderr",
     "output_type": "stream",
     "text": [
      "Translating:   1%|          | 70/8065 [00:16<27:07,  4.91it/s]"
     ]
    },
    {
     "name": "stdout",
     "output_type": "stream",
     "text": [
      "Il met fin à sa saison. ---- Il met fin à sa saison.\n",
      "Vous êtes très aimable. ---- Vous êtes très aimable.\n"
     ]
    },
    {
     "name": "stderr",
     "output_type": "stream",
     "text": [
      "Translating:   1%|          | 72/8065 [00:16<24:38,  5.41it/s]"
     ]
    },
    {
     "name": "stdout",
     "output_type": "stream",
     "text": [
      "La jument bondit. ---- La jument bondit.\n",
      "Quelle est cette femme? ---- Quelle est cette femme?\n"
     ]
    },
    {
     "name": "stderr",
     "output_type": "stream",
     "text": [
      "Translating:   1%|          | 74/8065 [00:17<27:50,  4.78it/s]"
     ]
    },
    {
     "name": "stdout",
     "output_type": "stream",
     "text": [
      "Voilà vos deux francs ...'. ---- Voilà vos deux francs …'.\n",
      "Elle ne sait jamais rien ! ---- Elle ne sait jamais rien !\n"
     ]
    },
    {
     "name": "stderr",
     "output_type": "stream",
     "text": [
      "Translating:   1%|          | 76/8065 [00:17<25:05,  5.31it/s]"
     ]
    },
    {
     "name": "stdout",
     "output_type": "stream",
     "text": [
      "Comment était le voyage ? ---- Comment était le voyage ?\n",
      "La vie est parfois si longue. ---- La vie est parfois si longue.\n"
     ]
    },
    {
     "name": "stderr",
     "output_type": "stream",
     "text": [
      "Translating:   1%|          | 78/8065 [00:17<27:17,  4.88it/s]"
     ]
    },
    {
     "name": "stdout",
     "output_type": "stream",
     "text": [
      "Dans les maisons. ---- Dans les maisons.\n",
      "Deux points d ⁇ avance. ---- Deux points d’avance.\n"
     ]
    },
    {
     "name": "stderr",
     "output_type": "stream",
     "text": [
      "Translating:   1%|          | 79/8065 [00:18<24:53,  5.35it/s]"
     ]
    },
    {
     "name": "stdout",
     "output_type": "stream",
     "text": [
      "il est cinq heures. ---- il est cinq heures.\n"
     ]
    },
    {
     "name": "stderr",
     "output_type": "stream",
     "text": [
      "Translating:   1%|          | 80/8065 [00:18<25:51,  5.15it/s]"
     ]
    },
    {
     "name": "stdout",
     "output_type": "stream",
     "text": [
      "Comment s'appelle votre sœur ? ---- Comment s'appelle votre sœur ?\n"
     ]
    },
    {
     "name": "stderr",
     "output_type": "stream",
     "text": [
      "Translating:   1%|          | 82/8065 [00:18<28:47,  4.62it/s]"
     ]
    },
    {
     "name": "stdout",
     "output_type": "stream",
     "text": [
      "Une minute cinquante. ---- Une minute cinquante.\n",
      "Il ne fait pas beau. ---- Il ne fait pas beau.\n"
     ]
    },
    {
     "name": "stderr",
     "output_type": "stream",
     "text": [
      "Translating:   1%|          | 83/8065 [00:19<28:11,  4.72it/s]"
     ]
    },
    {
     "name": "stdout",
     "output_type": "stream",
     "text": [
      "J'avais le cœur serré. ---- J'avais le cœur serré.\n"
     ]
    },
    {
     "name": "stderr",
     "output_type": "stream",
     "text": [
      "Translating:   1%|          | 85/8065 [00:19<31:37,  4.21it/s]"
     ]
    },
    {
     "name": "stdout",
     "output_type": "stream",
     "text": [
      "Je suis sûr qu ⁇ il aurait aimé. ---- Je suis sûr qu’il aurait aimé.\n",
      "La jument bondit. ---- La jument bondit.\n"
     ]
    },
    {
     "name": "stderr",
     "output_type": "stream",
     "text": [
      "Translating:   1%|          | 87/8065 [00:20<29:07,  4.57it/s]"
     ]
    },
    {
     "name": "stdout",
     "output_type": "stream",
     "text": [
      "Va-t ⁇ en ! je te chasse. ---- Va-t’en ! je te chasse.\n",
      "Il peut donc être retiré. ---- Il peut donc être retiré.\n"
     ]
    },
    {
     "name": "stderr",
     "output_type": "stream",
     "text": [
      "Translating:   1%|          | 89/8065 [00:20<27:43,  4.79it/s]"
     ]
    },
    {
     "name": "stdout",
     "output_type": "stream",
     "text": [
      "T'as eu des étudiants toi? ---- T'as eu des étudiants toi?\n",
      "C ⁇ est difficile. ---- C’est difficile.\n"
     ]
    },
    {
     "name": "stderr",
     "output_type": "stream",
     "text": [
      "Translating:   1%|          | 90/8065 [00:20<32:17,  4.12it/s]"
     ]
    },
    {
     "name": "stdout",
     "output_type": "stream",
     "text": [
      "Il parle dans le téléphone. ---- Il parle dans le téléphone.\n"
     ]
    },
    {
     "name": "stderr",
     "output_type": "stream",
     "text": [
      "Translating:   1%|          | 91/8065 [00:20<31:04,  4.28it/s]"
     ]
    },
    {
     "name": "stdout",
     "output_type": "stream",
     "text": [
      "Audace n'est pas déraison ---- Audace n'est pas déraison\n"
     ]
    },
    {
     "name": "stderr",
     "output_type": "stream",
     "text": [
      "Translating:   1%|          | 92/8065 [00:21<31:54,  4.16it/s]"
     ]
    },
    {
     "name": "stdout",
     "output_type": "stream",
     "text": [
      "Dis-leur à tous les cinq. ---- Dis-leur à tous les cinq.\n"
     ]
    },
    {
     "name": "stderr",
     "output_type": "stream",
     "text": [
      "Translating:   1%|          | 93/8065 [00:21<33:50,  3.93it/s]"
     ]
    },
    {
     "name": "stdout",
     "output_type": "stream",
     "text": [
      "Vos trois têtes. ---- Vos trois têtes.\n"
     ]
    },
    {
     "name": "stderr",
     "output_type": "stream",
     "text": [
      "Translating:   1%|          | 95/8065 [00:21<31:42,  4.19it/s]"
     ]
    },
    {
     "name": "stdout",
     "output_type": "stream",
     "text": [
      "il faut que j'y arrive. ---- il faut que j'y arrive.\n",
      "Il répond malaisément. ---- Il répond malaisément.\n"
     ]
    },
    {
     "name": "stderr",
     "output_type": "stream",
     "text": [
      "Translating:   1%|          | 97/8065 [00:22<26:29,  5.01it/s]"
     ]
    },
    {
     "name": "stdout",
     "output_type": "stream",
     "text": [
      "Un autre animal jaune. ---- Un autre animal jaune.\n",
      "Une jupe quelconque. ---- Une jupe quelconque.\n"
     ]
    },
    {
     "name": "stderr",
     "output_type": "stream",
     "text": [
      "Translating:   1%|          | 99/8065 [00:22<26:46,  4.96it/s]"
     ]
    },
    {
     "name": "stdout",
     "output_type": "stream",
     "text": [
      "Je clos la parenthèse. ---- Je clos la parenthèse.\n",
      "Je vous ai donné la balance ? ---- Je vous ai donné la balance ?\n"
     ]
    },
    {
     "name": "stderr",
     "output_type": "stream",
     "text": [
      "Translating:   1%|▏         | 101/8065 [00:23<26:13,  5.06it/s]"
     ]
    },
    {
     "name": "stdout",
     "output_type": "stream",
     "text": [
      "Dix-sept maisons. ---- Dix-sept maisons.\n",
      "J'habite à Londres. ---- J'habite à Londres.\n"
     ]
    },
    {
     "name": "stderr",
     "output_type": "stream",
     "text": [
      "Translating:   1%|▏         | 103/8065 [00:23<26:14,  5.06it/s]"
     ]
    },
    {
     "name": "stdout",
     "output_type": "stream",
     "text": [
      "Il s ⁇ assit près du lit. ---- Il s’assit près du lit.\n",
      "Je cours rassurer nos amis. ---- Je cours rassurer nos amis.\n"
     ]
    },
    {
     "name": "stderr",
     "output_type": "stream",
     "text": [
      "Translating:   1%|▏         | 104/8065 [00:23<26:24,  5.03it/s]"
     ]
    },
    {
     "name": "stdout",
     "output_type": "stream",
     "text": [
      "Est-ce qu ⁇ il viendra ? ---- Est-ce qu’il viendra ?\n"
     ]
    },
    {
     "name": "stderr",
     "output_type": "stream",
     "text": [
      "Translating:   1%|▏         | 106/8065 [00:24<32:17,  4.11it/s]"
     ]
    },
    {
     "name": "stdout",
     "output_type": "stream",
     "text": [
      "Il est mort à Milan. ---- Il est mort à Milan.\n",
      "Elle est compréhensible. ---- C’est compréhensible.\n"
     ]
    },
    {
     "name": "stderr",
     "output_type": "stream",
     "text": [
      "Translating:   1%|▏         | 108/8065 [00:24<28:45,  4.61it/s]"
     ]
    },
    {
     "name": "stdout",
     "output_type": "stream",
     "text": [
      "Il faut en tenir compte. ---- Il faut en tenir compte.\n",
      "C ⁇ est toujours comme ça ici ? ---- C’est toujours comme ça ici ?\n"
     ]
    },
    {
     "name": "stderr",
     "output_type": "stream",
     "text": [
      "Translating:   1%|▏         | 110/8065 [00:25<25:28,  5.20it/s]"
     ]
    },
    {
     "name": "stdout",
     "output_type": "stream",
     "text": [
      "Vous savez combien il coûte ? ---- Vous savez combien il coûte ?\n",
      "Je n ⁇ attends personne. ---- Je n’attends personne.\n"
     ]
    },
    {
     "name": "stderr",
     "output_type": "stream",
     "text": [
      "Translating:   1%|▏         | 111/8065 [00:25<27:45,  4.78it/s]"
     ]
    },
    {
     "name": "stdout",
     "output_type": "stream",
     "text": [
      "Ce n ⁇ est pas d ⁇ un jeu. ---- Ce n’est pas d’un jeu.\n"
     ]
    },
    {
     "name": "stderr",
     "output_type": "stream",
     "text": [
      "Translating:   1%|▏         | 112/8065 [00:25<27:39,  4.79it/s]"
     ]
    },
    {
     "name": "stdout",
     "output_type": "stream",
     "text": [
      "Ne le frappez pas. ---- Ne le frappez pas.\n"
     ]
    },
    {
     "name": "stderr",
     "output_type": "stream",
     "text": [
      "Translating:   1%|▏         | 114/8065 [00:25<26:35,  4.98it/s]"
     ]
    },
    {
     "name": "stdout",
     "output_type": "stream",
     "text": [
      "Je vous verrai plus tard. ---- Je vous verrai plus tard.\n",
      "Je n ⁇ en suis pas sûre ---- Je n’en suis pas sûre\n"
     ]
    },
    {
     "name": "stderr",
     "output_type": "stream",
     "text": [
      "Translating:   1%|▏         | 115/8065 [00:26<31:07,  4.26it/s]"
     ]
    },
    {
     "name": "stdout",
     "output_type": "stream",
     "text": [
      "Montée du Croizic à Carcassonne ---- La chaise est cassée.\n"
     ]
    },
    {
     "name": "stderr",
     "output_type": "stream",
     "text": [
      "Translating:   1%|▏         | 116/8065 [00:26<37:32,  3.53it/s]"
     ]
    },
    {
     "name": "stdout",
     "output_type": "stream",
     "text": [
      "Et si on commandait une pizza? ---- Et si on commandait une pizza?\n"
     ]
    },
    {
     "name": "stderr",
     "output_type": "stream",
     "text": [
      "Translating:   1%|▏         | 117/8065 [00:26<38:17,  3.46it/s]"
     ]
    },
    {
     "name": "stdout",
     "output_type": "stream",
     "text": [
      "Vous savez comment cuisiner ? ---- Vous savez comment cuisiner ?\n"
     ]
    },
    {
     "name": "stderr",
     "output_type": "stream",
     "text": [
      "Translating:   1%|▏         | 119/8065 [00:27<34:24,  3.85it/s]"
     ]
    },
    {
     "name": "stdout",
     "output_type": "stream",
     "text": [
      "J ⁇ aimerais ta sœur. ---- J’aimerais ta sœur.\n",
      "Le ciel était sombre. ---- Le ciel était sombre.\n"
     ]
    },
    {
     "name": "stderr",
     "output_type": "stream",
     "text": [
      "Translating:   1%|▏         | 120/8065 [00:27<31:52,  4.15it/s]"
     ]
    },
    {
     "name": "stdout",
     "output_type": "stream",
     "text": [
      "Quel métier faites-vous ? ---- Quel métier faites-vous ?\n"
     ]
    },
    {
     "name": "stderr",
     "output_type": "stream",
     "text": [
      "Translating:   2%|▏         | 122/8065 [00:28<32:25,  4.08it/s]"
     ]
    },
    {
     "name": "stdout",
     "output_type": "stream",
     "text": [
      "Tu reprendras de la viande ? ---- Tu reprendras de la viande ?\n",
      "Il souffre de calvitie. ---- Il souffre de calvitie.\n"
     ]
    },
    {
     "name": "stderr",
     "output_type": "stream",
     "text": [
      "Translating:   2%|▏         | 123/8065 [00:28<28:55,  4.58it/s]"
     ]
    },
    {
     "name": "stdout",
     "output_type": "stream",
     "text": [
      "Tu comprends, maintenant? ---- Tu comprends, maintenant?\n"
     ]
    },
    {
     "name": "stderr",
     "output_type": "stream",
     "text": [
      "Translating:   2%|▏         | 124/8065 [00:28<28:25,  4.66it/s]"
     ]
    },
    {
     "name": "stdout",
     "output_type": "stream",
     "text": [
      "Un tout petit petit papillon. ---- Un tout petit petit papillon.\n"
     ]
    },
    {
     "name": "stderr",
     "output_type": "stream",
     "text": [
      "Translating:   2%|▏         | 126/8065 [00:28<29:34,  4.47it/s]"
     ]
    },
    {
     "name": "stdout",
     "output_type": "stream",
     "text": [
      "Marcof les calma du geste. ---- Marcof les calma du geste.\n",
      "Où sont les livres ? ---- Où sont les livres ?\n"
     ]
    },
    {
     "name": "stderr",
     "output_type": "stream",
     "text": [
      "Translating:   2%|▏         | 127/8065 [00:29<29:05,  4.55it/s]"
     ]
    },
    {
     "name": "stdout",
     "output_type": "stream",
     "text": [
      "En tout cas, je le souhaite. ---- En tout cas, je le souhaite.\n"
     ]
    },
    {
     "name": "stderr",
     "output_type": "stream",
     "text": [
      "Translating:   2%|▏         | 128/8065 [00:29<29:01,  4.56it/s]"
     ]
    },
    {
     "name": "stdout",
     "output_type": "stream",
     "text": [
      "Je ferai deux remarques. ---- Je ferai deux remarques.\n"
     ]
    },
    {
     "name": "stderr",
     "output_type": "stream",
     "text": [
      "Translating:   2%|▏         | 129/8065 [00:29<31:12,  4.24it/s]"
     ]
    },
    {
     "name": "stdout",
     "output_type": "stream",
     "text": [
      "Ils sont extrèmement connus. ---- Ils sont extrèmement connus.\n"
     ]
    },
    {
     "name": "stderr",
     "output_type": "stream",
     "text": [
      "Translating:   2%|▏         | 131/8065 [00:30<30:12,  4.38it/s]"
     ]
    },
    {
     "name": "stdout",
     "output_type": "stream",
     "text": [
      "Les autres juges étaient élus. ---- Les autres juges étaient élus.\n",
      "Cela commence mal ---- Cela commence mal\n"
     ]
    },
    {
     "name": "stderr",
     "output_type": "stream",
     "text": [
      "Translating:   2%|▏         | 133/8065 [00:30<31:52,  4.15it/s]"
     ]
    },
    {
     "name": "stdout",
     "output_type": "stream",
     "text": [
      "Mais cet ami est sacré. ---- Mais cet ami est sacré.\n",
      "Il a dit quelque chose ? ---- Il a dit quelque chose ?\n"
     ]
    },
    {
     "name": "stderr",
     "output_type": "stream",
     "text": [
      "Translating:   2%|▏         | 135/8065 [00:31<28:26,  4.65it/s]"
     ]
    },
    {
     "name": "stdout",
     "output_type": "stream",
     "text": [
      "J ⁇ ai une paire de ciseaux. ---- J’ai une paire de ciseaux.\n",
      "On fait attendre les gens. ---- On fait attendre les gens.\n"
     ]
    },
    {
     "name": "stderr",
     "output_type": "stream",
     "text": [
      "Translating:   2%|▏         | 136/8065 [00:31<32:34,  4.06it/s]"
     ]
    },
    {
     "name": "stdout",
     "output_type": "stream",
     "text": [
      "vous, vous êtes aimé. ---- un demi litre de lait\n"
     ]
    },
    {
     "name": "stderr",
     "output_type": "stream",
     "text": [
      "Translating:   2%|▏         | 137/8065 [00:31<30:55,  4.27it/s]"
     ]
    },
    {
     "name": "stdout",
     "output_type": "stream",
     "text": [
      "Elle est hyper embrouillée. ---- C’est assez bon.\n"
     ]
    },
    {
     "name": "stderr",
     "output_type": "stream",
     "text": [
      "Translating:   2%|▏         | 139/8065 [00:32<30:57,  4.27it/s]"
     ]
    },
    {
     "name": "stdout",
     "output_type": "stream",
     "text": [
      "Ruiné, il rentre à Paris. ---- Ruiné, il rentre à Paris.\n",
      "Combien d'enfants ? ---- Combien d'enfants ?\n"
     ]
    },
    {
     "name": "stderr",
     "output_type": "stream",
     "text": [
      "Translating:   2%|▏         | 140/8065 [00:32<28:12,  4.68it/s]"
     ]
    },
    {
     "name": "stdout",
     "output_type": "stream",
     "text": [
      "Vous parlez anglais ? ---- Vous parlez anglais ?\n",
      "N ⁇ importe quoi ! ---- N’importe quoi !\n"
     ]
    },
    {
     "name": "stderr",
     "output_type": "stream",
     "text": [
      "Translating:   2%|▏         | 143/8065 [00:32<27:45,  4.76it/s]"
     ]
    },
    {
     "name": "stdout",
     "output_type": "stream",
     "text": [
      "Il n ⁇ aime donc pas sa femme ? ---- Il n’aime donc pas sa femme ?\n",
      "nous étions en train d'aller. ---- nous étions en train d'aller.\n"
     ]
    },
    {
     "name": "stderr",
     "output_type": "stream",
     "text": [
      "Translating:   2%|▏         | 144/8065 [00:33<26:56,  4.90it/s]"
     ]
    },
    {
     "name": "stdout",
     "output_type": "stream",
     "text": [
      "Ils ont chacun un chapeau. ---- Ils ont chacun un chapeau.\n"
     ]
    },
    {
     "name": "stderr",
     "output_type": "stream",
     "text": [
      "Translating:   2%|▏         | 146/8065 [00:33<28:09,  4.69it/s]"
     ]
    },
    {
     "name": "stdout",
     "output_type": "stream",
     "text": [
      "Qu ⁇ est-ce que c ⁇ est mauvais ! ---- Qu’est-ce que c’est mauvais !\n",
      "De quelle couleur il est ? ---- De quelle couleur il est ?\n"
     ]
    },
    {
     "name": "stderr",
     "output_type": "stream",
     "text": [
      "Translating:   2%|▏         | 148/8065 [00:34<28:22,  4.65it/s]"
     ]
    },
    {
     "name": "stdout",
     "output_type": "stream",
     "text": [
      "La Vierge Marie. ---- La Vierge Marie.\n",
      "Cette maison te plaira. ---- Cette maison te plaira.\n"
     ]
    },
    {
     "name": "stderr",
     "output_type": "stream",
     "text": [
      "Translating:   2%|▏         | 149/8065 [00:34<27:22,  4.82it/s]"
     ]
    },
    {
     "name": "stdout",
     "output_type": "stream",
     "text": [
      "elles, elles ont aimé. ---- elles, elles ont aimé.\n"
     ]
    },
    {
     "name": "stderr",
     "output_type": "stream",
     "text": [
      "Translating:   2%|▏         | 150/8065 [00:34<28:20,  4.65it/s]"
     ]
    },
    {
     "name": "stdout",
     "output_type": "stream",
     "text": [
      "tu es sûr que tu aimeras. ---- tu es sûr que tu aimeras.\n"
     ]
    },
    {
     "name": "stderr",
     "output_type": "stream",
     "text": [
      "Translating:   2%|▏         | 151/8065 [00:34<41:51,  3.15it/s]"
     ]
    },
    {
     "name": "stdout",
     "output_type": "stream",
     "text": [
      "Où travaillez-vous ? ---- Où travaillez-vous ?\n"
     ]
    },
    {
     "name": "stderr",
     "output_type": "stream",
     "text": [
      "Translating:   2%|▏         | 152/8065 [00:35<37:42,  3.50it/s]"
     ]
    },
    {
     "name": "stdout",
     "output_type": "stream",
     "text": [
      "je ne veux pas partir. ---- je ne veux pas partir.\n"
     ]
    },
    {
     "name": "stderr",
     "output_type": "stream",
     "text": [
      "Translating:   2%|▏         | 153/8065 [00:35<36:00,  3.66it/s]"
     ]
    },
    {
     "name": "stdout",
     "output_type": "stream",
     "text": [
      "elle est partie. ---- elle est partie.\n"
     ]
    },
    {
     "name": "stderr",
     "output_type": "stream",
     "text": [
      "Translating:   2%|▏         | 155/8065 [00:35<34:09,  3.86it/s]"
     ]
    },
    {
     "name": "stdout",
     "output_type": "stream",
     "text": [
      "Vous avez mangé ensemble ? ---- Vous avez mangé ensemble ?\n",
      "Comment le savez-vous ? ---- Comment le savez-vous ?\n"
     ]
    },
    {
     "name": "stderr",
     "output_type": "stream",
     "text": [
      "Translating:   2%|▏         | 156/8065 [00:36<37:20,  3.53it/s]"
     ]
    },
    {
     "name": "stdout",
     "output_type": "stream",
     "text": [
      "C'est à qui de jouer ? ---- C'est à qui de jouer ?\n"
     ]
    },
    {
     "name": "stderr",
     "output_type": "stream",
     "text": [
      "Translating:   2%|▏         | 157/8065 [00:36<39:10,  3.36it/s]"
     ]
    },
    {
     "name": "stdout",
     "output_type": "stream",
     "text": [
      "Il se rassit, croisa les bras. ---- Il se rassit, croisa les bras.\n"
     ]
    },
    {
     "name": "stderr",
     "output_type": "stream",
     "text": [
      "Translating:   2%|▏         | 159/8065 [00:37<35:47,  3.68it/s]"
     ]
    },
    {
     "name": "stdout",
     "output_type": "stream",
     "text": [
      "tu es sûr que tu aimas. ---- tu es sûr que tu aimas.\n",
      "Nous y serons attentifs. ---- Nous y serons attentifs.\n"
     ]
    },
    {
     "name": "stderr",
     "output_type": "stream",
     "text": [
      "Translating:   2%|▏         | 160/8065 [00:37<34:40,  3.80it/s]"
     ]
    },
    {
     "name": "stdout",
     "output_type": "stream",
     "text": [
      "C'est un centre industriel. ---- C'est un centre industriel.\n"
     ]
    },
    {
     "name": "stderr",
     "output_type": "stream",
     "text": [
      "Translating:   2%|▏         | 161/8065 [00:37<32:45,  4.02it/s]"
     ]
    },
    {
     "name": "stdout",
     "output_type": "stream",
     "text": [
      "Les enfants, venez manger. ---- Les enfants, venez manger.\n"
     ]
    },
    {
     "name": "stderr",
     "output_type": "stream",
     "text": [
      "Translating:   2%|▏         | 162/8065 [00:38<39:33,  3.33it/s]"
     ]
    },
    {
     "name": "stdout",
     "output_type": "stream",
     "text": [
      "Ils la complimentaient. ---- Ils la complimentaient.\n"
     ]
    },
    {
     "name": "stderr",
     "output_type": "stream",
     "text": [
      "Translating:   2%|▏         | 163/8065 [00:38<39:11,  3.36it/s]"
     ]
    },
    {
     "name": "stdout",
     "output_type": "stream",
     "text": [
      "Il sort par la droite. ---- Il sort par la droite.\n"
     ]
    },
    {
     "name": "stderr",
     "output_type": "stream",
     "text": [
      "Translating:   2%|▏         | 164/8065 [00:38<35:31,  3.71it/s]"
     ]
    },
    {
     "name": "stdout",
     "output_type": "stream",
     "text": [
      "Il toussa encore. ---- Il toussa encore.\n"
     ]
    },
    {
     "name": "stderr",
     "output_type": "stream",
     "text": [
      "Translating:   2%|▏         | 165/8065 [00:38<34:06,  3.86it/s]"
     ]
    },
    {
     "name": "stdout",
     "output_type": "stream",
     "text": [
      "Dans la tête et le cœur. ---- Dans la tête et le cœur.\n"
     ]
    },
    {
     "name": "stderr",
     "output_type": "stream",
     "text": [
      "Translating:   2%|▏         | 166/8065 [00:38<32:09,  4.09it/s]"
     ]
    },
    {
     "name": "stdout",
     "output_type": "stream",
     "text": [
      "Respectez le ministre ---- Respectez le ministre\n"
     ]
    },
    {
     "name": "stderr",
     "output_type": "stream",
     "text": [
      "Translating:   2%|▏         | 167/8065 [00:39<40:45,  3.23it/s]"
     ]
    },
    {
     "name": "stdout",
     "output_type": "stream",
     "text": [
      "Quel stupide animal ! ---- Quel stupide animal !\n"
     ]
    },
    {
     "name": "stderr",
     "output_type": "stream",
     "text": [
      "Translating:   2%|▏         | 169/8065 [00:39<36:59,  3.56it/s]"
     ]
    },
    {
     "name": "stdout",
     "output_type": "stream",
     "text": [
      "Pas un mo sur ça. ---- Pas un mo sur ça.\n",
      "Quatre éléphants. ---- Quatre éléphants.\n"
     ]
    },
    {
     "name": "stderr",
     "output_type": "stream",
     "text": [
      "Translating:   2%|▏         | 170/8065 [00:40<35:12,  3.74it/s]"
     ]
    },
    {
     "name": "stdout",
     "output_type": "stream",
     "text": [
      "J'ai reçu leur offre ce matin. ---- J'ai reçu leur offre ce matin.\n"
     ]
    },
    {
     "name": "stderr",
     "output_type": "stream",
     "text": [
      "Translating:   2%|▏         | 171/8065 [00:40<39:15,  3.35it/s]"
     ]
    },
    {
     "name": "stdout",
     "output_type": "stream",
     "text": [
      "Tu le traites quinze jours... ---- Tu le traites quinze jours…\n"
     ]
    },
    {
     "name": "stderr",
     "output_type": "stream",
     "text": [
      "Translating:   2%|▏         | 172/8065 [00:40<38:36,  3.41it/s]"
     ]
    },
    {
     "name": "stdout",
     "output_type": "stream",
     "text": [
      "C ⁇ est exact, je vous remercie. ---- C’est exact, je vous remercie.\n"
     ]
    },
    {
     "name": "stderr",
     "output_type": "stream",
     "text": [
      "Translating:   2%|▏         | 173/8065 [00:41<40:47,  3.23it/s]"
     ]
    },
    {
     "name": "stdout",
     "output_type": "stream",
     "text": [
      "Entrez, asseyez-vous. ---- Entrez, asseyez-vous.\n"
     ]
    },
    {
     "name": "stderr",
     "output_type": "stream",
     "text": [
      "Translating:   2%|▏         | 174/8065 [00:41<39:24,  3.34it/s]"
     ]
    },
    {
     "name": "stdout",
     "output_type": "stream",
     "text": [
      "Tout cela est aléatoire. ---- Tout cela est aléatoire.\n"
     ]
    },
    {
     "name": "stderr",
     "output_type": "stream",
     "text": [
      "Translating:   2%|▏         | 175/8065 [00:41<44:33,  2.95it/s]"
     ]
    },
    {
     "name": "stdout",
     "output_type": "stream",
     "text": [
      "Il a été refusé. ---- Il a été refusé.\n"
     ]
    },
    {
     "name": "stderr",
     "output_type": "stream",
     "text": [
      "Translating:   2%|▏         | 176/8065 [00:42<39:15,  3.35it/s]"
     ]
    },
    {
     "name": "stdout",
     "output_type": "stream",
     "text": [
      "Nous pêchions avec des filets. ---- Nous pêchions avec des filets.\n"
     ]
    },
    {
     "name": "stderr",
     "output_type": "stream",
     "text": [
      "Translating:   2%|▏         | 178/8065 [00:42<31:32,  4.17it/s]"
     ]
    },
    {
     "name": "stdout",
     "output_type": "stream",
     "text": [
      "Le plus rouillé. ---- Le plus rouillé.\n",
      "Quarante-quatre éléphants. ---- Quarante-quatre éléphants.\n"
     ]
    },
    {
     "name": "stderr",
     "output_type": "stream",
     "text": [
      "Translating:   2%|▏         | 179/8065 [00:42<38:40,  3.40it/s]"
     ]
    },
    {
     "name": "stdout",
     "output_type": "stream",
     "text": [
      "Je m ⁇ appelle John Smith. ---- Je m’appelle John Smith.\n"
     ]
    },
    {
     "name": "stderr",
     "output_type": "stream",
     "text": [
      "Translating:   2%|▏         | 180/8065 [00:43<39:33,  3.32it/s]"
     ]
    },
    {
     "name": "stdout",
     "output_type": "stream",
     "text": [
      "Cela n ⁇ a jamais vu le jour. ---- Cela n’a jamais vu le jour.\n"
     ]
    },
    {
     "name": "stderr",
     "output_type": "stream",
     "text": [
      "Translating:   2%|▏         | 182/8065 [00:43<35:13,  3.73it/s]"
     ]
    },
    {
     "name": "stdout",
     "output_type": "stream",
     "text": [
      "La fille au père Greluche ! ---- La fille au père Greluche !\n",
      "Cesse de faire la tête ! ---- Cesse de faire la tête !\n"
     ]
    },
    {
     "name": "stderr",
     "output_type": "stream",
     "text": [
      "Translating:   2%|▏         | 183/8065 [00:43<33:30,  3.92it/s]"
     ]
    },
    {
     "name": "stdout",
     "output_type": "stream",
     "text": [
      "je suis sûr qu'on aime. ---- je suis sûr qu'on aime.\n"
     ]
    },
    {
     "name": "stderr",
     "output_type": "stream",
     "text": [
      "Translating:   2%|▏         | 184/8065 [00:44<38:09,  3.44it/s]"
     ]
    },
    {
     "name": "stdout",
     "output_type": "stream",
     "text": [
      "Qu ⁇ est-ce qui s ⁇ est passé ? ---- Qu’est-ce qui s’est passé ?\n"
     ]
    },
    {
     "name": "stderr",
     "output_type": "stream",
     "text": [
      "Translating:   2%|▏         | 185/8065 [00:44<42:17,  3.11it/s]"
     ]
    },
    {
     "name": "stdout",
     "output_type": "stream",
     "text": [
      "Leur. ---- Leur.\n"
     ]
    },
    {
     "name": "stderr",
     "output_type": "stream",
     "text": [
      "Translating:   2%|▏         | 186/8065 [00:44<38:53,  3.38it/s]"
     ]
    },
    {
     "name": "stdout",
     "output_type": "stream",
     "text": [
      "Accordez-moi un petit moment. ---- Accordez-moi un petit moment.\n"
     ]
    },
    {
     "name": "stderr",
     "output_type": "stream",
     "text": [
      "Translating:   2%|▏         | 188/8065 [00:45<35:51,  3.66it/s]"
     ]
    },
    {
     "name": "stdout",
     "output_type": "stream",
     "text": [
      "Pas possible ! s'écria-t-elle. ---- Pas possible ! s'écria-t-elle.\n",
      "Ce n ⁇ est pas la seule. ---- Ce n’est pas la seule.\n"
     ]
    },
    {
     "name": "stderr",
     "output_type": "stream",
     "text": [
      "Translating:   2%|▏         | 190/8065 [00:45<29:47,  4.40it/s]"
     ]
    },
    {
     "name": "stdout",
     "output_type": "stream",
     "text": [
      "Il a obtenu une prolongation. ---- Il a obtenu une prolongation.\n",
      "Votre femme n ⁇ est plus là ? ---- Votre femme n’est plus là ?\n"
     ]
    },
    {
     "name": "stderr",
     "output_type": "stream",
     "text": [
      "Translating:   2%|▏         | 192/8065 [00:46<25:25,  5.16it/s]"
     ]
    },
    {
     "name": "stdout",
     "output_type": "stream",
     "text": [
      "Moi, je vous attends. ---- Moi, je vous attends.\n",
      "J'ai deux sœurs. ---- J'ai deux sœurs.\n"
     ]
    },
    {
     "name": "stderr",
     "output_type": "stream",
     "text": [
      "Translating:   2%|▏         | 193/8065 [00:46<36:41,  3.58it/s]"
     ]
    },
    {
     "name": "stdout",
     "output_type": "stream",
     "text": [
      "Eh bien, j ⁇ ai gagné !... ---- Eh bien, j’ai gagné !…\n"
     ]
    },
    {
     "name": "stderr",
     "output_type": "stream",
     "text": [
      "Translating:   2%|▏         | 194/8065 [00:46<33:40,  3.90it/s]"
     ]
    },
    {
     "name": "stdout",
     "output_type": "stream",
     "text": [
      "Elle fondit en pleurs. ---- Elle fondit en pleurs.\n"
     ]
    },
    {
     "name": "stderr",
     "output_type": "stream",
     "text": [
      "Translating:   2%|▏         | 195/8065 [00:47<34:44,  3.78it/s]"
     ]
    },
    {
     "name": "stdout",
     "output_type": "stream",
     "text": [
      "Jésus défend d'accuser autrui. ---- Jésus défend d'accuser autrui.\n"
     ]
    },
    {
     "name": "stderr",
     "output_type": "stream",
     "text": [
      "Translating:   2%|▏         | 196/8065 [00:47<36:07,  3.63it/s]"
     ]
    },
    {
     "name": "stdout",
     "output_type": "stream",
     "text": [
      "tu es sûr que nous aimions. ---- tu es sûr que nous aimions.\n"
     ]
    },
    {
     "name": "stderr",
     "output_type": "stream",
     "text": [
      "Translating:   2%|▏         | 198/8065 [00:48<38:17,  3.42it/s]"
     ]
    },
    {
     "name": "stdout",
     "output_type": "stream",
     "text": [
      "Il a brisé la fenêtre. ---- Il a brisé la fenêtre.\n",
      "Où est la gare routière ? ---- Où est la gare routière ?\n"
     ]
    },
    {
     "name": "stderr",
     "output_type": "stream",
     "text": [
      "Translating:   2%|▏         | 200/8065 [00:48<30:39,  4.28it/s]"
     ]
    },
    {
     "name": "stdout",
     "output_type": "stream",
     "text": [
      "On manque d ⁇ eau. ---- On manque d’eau.\n",
      "Et tu les as insultés. ---- Et tu les as insultés.\n"
     ]
    },
    {
     "name": "stderr",
     "output_type": "stream",
     "text": [
      "Translating:   3%|▎         | 202/8065 [00:48<27:28,  4.77it/s]"
     ]
    },
    {
     "name": "stdout",
     "output_type": "stream",
     "text": [
      "Mais dans l ⁇ article L. ---- Mais dans l’article L.\n",
      "Elle est richement dotée. ---- Elle est richement dotée.\n"
     ]
    },
    {
     "name": "stderr",
     "output_type": "stream",
     "text": [
      "Translating:   3%|▎         | 204/8065 [00:49<25:14,  5.19it/s]"
     ]
    },
    {
     "name": "stdout",
     "output_type": "stream",
     "text": [
      "tu es sûr qu'ils aimaient. ---- tu es sûr qu'ils aimaient.\n",
      "Il faut arroser ces plantes. ---- Il faut arroser ces plantes.\n"
     ]
    },
    {
     "name": "stderr",
     "output_type": "stream",
     "text": [
      "Translating:   3%|▎         | 205/8065 [00:49<31:55,  4.10it/s]"
     ]
    },
    {
     "name": "stdout",
     "output_type": "stream",
     "text": [
      "Remplissez ce formulaire. ---- Remplissez ce formulaire.\n"
     ]
    },
    {
     "name": "stderr",
     "output_type": "stream",
     "text": [
      "Translating:   3%|▎         | 207/8065 [00:49<26:53,  4.87it/s]"
     ]
    },
    {
     "name": "stdout",
     "output_type": "stream",
     "text": [
      "Il s'en tire bien. ---- Il s'en tire bien.\n",
      "Si elle pêchait. ---- Si elle pêchait.\n"
     ]
    },
    {
     "name": "stderr",
     "output_type": "stream",
     "text": [
      "Translating:   3%|▎         | 208/8065 [00:50<26:38,  4.91it/s]"
     ]
    },
    {
     "name": "stdout",
     "output_type": "stream",
     "text": [
      "Quand ouvrez-vous la porte ? ---- Quand ouvrez-vous la porte ?\n"
     ]
    },
    {
     "name": "stderr",
     "output_type": "stream",
     "text": [
      "Translating:   3%|▎         | 209/8065 [00:50<27:49,  4.71it/s]"
     ]
    },
    {
     "name": "stdout",
     "output_type": "stream",
     "text": [
      "Annule. Je prends ma journée. ---- Annule. Je prends ma journée.\n"
     ]
    },
    {
     "name": "stderr",
     "output_type": "stream",
     "text": [
      "Translating:   3%|▎         | 210/8065 [00:50<34:20,  3.81it/s]"
     ]
    },
    {
     "name": "stdout",
     "output_type": "stream",
     "text": [
      "Il écoute et il obéit. ---- Il écoute et il obéit.\n"
     ]
    },
    {
     "name": "stderr",
     "output_type": "stream",
     "text": [
      "Translating:   3%|▎         | 211/8065 [00:50<32:19,  4.05it/s]"
     ]
    },
    {
     "name": "stdout",
     "output_type": "stream",
     "text": [
      "Elle me plaît bien à moi. ---- Elle me plaît bien à moi.\n"
     ]
    },
    {
     "name": "stderr",
     "output_type": "stream",
     "text": [
      "Translating:   3%|▎         | 213/8065 [00:51<31:11,  4.20it/s]"
     ]
    },
    {
     "name": "stdout",
     "output_type": "stream",
     "text": [
      "Tu es sûr qu ⁇ elle aimera. ---- Tu es sûr qu’elle aimera.\n",
      "Il s ⁇ est retiré. ---- Il s’est retiré.\n"
     ]
    },
    {
     "name": "stderr",
     "output_type": "stream",
     "text": [
      "Translating:   3%|▎         | 215/8065 [00:51<25:41,  5.09it/s]"
     ]
    },
    {
     "name": "stdout",
     "output_type": "stream",
     "text": [
      "C'est possible ? ---- C'est possible ?\n",
      "ta paire de lunettes. ---- ta paire de lunettes.\n"
     ]
    },
    {
     "name": "stderr",
     "output_type": "stream",
     "text": [
      "Translating:   3%|▎         | 217/8065 [00:52<24:01,  5.45it/s]"
     ]
    },
    {
     "name": "stdout",
     "output_type": "stream",
     "text": [
      "Alors, où est ma tante ? ---- Alors, où est ma tante ?\n",
      "Vous apprenez l ⁇ anglais ? ---- Vous apprenez l’anglais ?\n"
     ]
    },
    {
     "name": "stderr",
     "output_type": "stream",
     "text": [
      "Translating:   3%|▎         | 219/8065 [00:52<22:36,  5.78it/s]"
     ]
    },
    {
     "name": "stdout",
     "output_type": "stream",
     "text": [
      "À quelle heure le déjeuner ?... ---- À quelle heure le déjeuner ?\n",
      "Un kilomètre de route. ---- Un kilomètre de route.\n"
     ]
    },
    {
     "name": "stderr",
     "output_type": "stream",
     "text": [
      "Translating:   3%|▎         | 220/8065 [00:52<22:42,  5.76it/s]"
     ]
    },
    {
     "name": "stdout",
     "output_type": "stream",
     "text": [
      "Hier je pêchais. ---- Hier je pêchais.\n"
     ]
    },
    {
     "name": "stderr",
     "output_type": "stream",
     "text": [
      "Translating:   3%|▎         | 221/8065 [00:52<27:02,  4.83it/s]"
     ]
    },
    {
     "name": "stdout",
     "output_type": "stream",
     "text": [
      "Et si on s ⁇ achetait une glace? ---- Et si on s’achetait une glace?\n"
     ]
    },
    {
     "name": "stderr",
     "output_type": "stream",
     "text": [
      "Translating:   3%|▎         | 222/8065 [00:53<44:42,  2.92it/s]"
     ]
    },
    {
     "name": "stdout",
     "output_type": "stream",
     "text": [
      "Qu'est-ce qu'il y a dedans ? ---- Qu'est-ce qu'il y a dedans ?\n"
     ]
    },
    {
     "name": "stderr",
     "output_type": "stream",
     "text": [
      "Translating:   3%|▎         | 223/8065 [00:54<57:42,  2.26it/s]"
     ]
    },
    {
     "name": "stdout",
     "output_type": "stream",
     "text": [
      "Vous avez entendu ? ---- Vous avez entendu ?\n"
     ]
    },
    {
     "name": "stderr",
     "output_type": "stream",
     "text": [
      "Translating:   3%|▎         | 224/8065 [00:54<54:18,  2.41it/s]"
     ]
    },
    {
     "name": "stdout",
     "output_type": "stream",
     "text": [
      "Ils ne l'avaient pas écouté. ---- Ils ne l'avaient pas écouté.\n"
     ]
    },
    {
     "name": "stderr",
     "output_type": "stream",
     "text": [
      "Translating:   3%|▎         | 225/8065 [00:54<47:11,  2.77it/s]"
     ]
    },
    {
     "name": "stdout",
     "output_type": "stream",
     "text": [
      "Combien de temps encore ? ---- Combien de temps encore ?\n"
     ]
    },
    {
     "name": "stderr",
     "output_type": "stream",
     "text": [
      "Translating:   3%|▎         | 226/8065 [00:55<44:23,  2.94it/s]"
     ]
    },
    {
     "name": "stdout",
     "output_type": "stream",
     "text": [
      "Je jetai un regard sur eux. ---- Je jetai un regard sur eux.\n"
     ]
    },
    {
     "name": "stderr",
     "output_type": "stream",
     "text": [
      "Translating:   3%|▎         | 227/8065 [00:55<44:28,  2.94it/s]"
     ]
    },
    {
     "name": "stdout",
     "output_type": "stream",
     "text": [
      "allez-vous en d'ici. ---- allez-vous en d'ici.\n"
     ]
    },
    {
     "name": "stderr",
     "output_type": "stream",
     "text": [
      "Translating:   3%|▎         | 228/8065 [00:55<44:30,  2.93it/s]"
     ]
    },
    {
     "name": "stdout",
     "output_type": "stream",
     "text": [
      "Il ne se serait jamais marié. ---- Il ne se serait jamais marié.\n"
     ]
    },
    {
     "name": "stderr",
     "output_type": "stream",
     "text": [
      "Translating:   3%|▎         | 229/8065 [00:56<52:05,  2.51it/s]"
     ]
    },
    {
     "name": "stdout",
     "output_type": "stream",
     "text": [
      "Comment se présenter ? ---- Comment se présenter ?\n"
     ]
    },
    {
     "name": "stderr",
     "output_type": "stream",
     "text": [
      "Translating:   3%|▎         | 230/8065 [00:57<1:08:04,  1.92it/s]"
     ]
    },
    {
     "name": "stdout",
     "output_type": "stream",
     "text": [
      "Je n'ai pas d'argent sur moi. ---- Je n'ai pas d'argent sur moi.\n"
     ]
    },
    {
     "name": "stderr",
     "output_type": "stream",
     "text": [
      "Translating:   3%|▎         | 231/8065 [00:57<1:01:16,  2.13it/s]"
     ]
    },
    {
     "name": "stdout",
     "output_type": "stream",
     "text": [
      "La fenêtre de la maison. ---- La fenêtre de la maison.\n"
     ]
    },
    {
     "name": "stderr",
     "output_type": "stream",
     "text": [
      "Translating:   3%|▎         | 232/8065 [00:57<56:48,  2.30it/s]  "
     ]
    },
    {
     "name": "stdout",
     "output_type": "stream",
     "text": [
      "Tu es sûr que nous aimions. ---- Tu es sûr que nous aimions.\n"
     ]
    },
    {
     "name": "stderr",
     "output_type": "stream",
     "text": [
      "Translating:   3%|▎         | 233/8065 [00:58<51:53,  2.52it/s]"
     ]
    },
    {
     "name": "stdout",
     "output_type": "stream",
     "text": [
      "Il avale le reste de la tasse. ---- Il avale le reste de la tasse.\n"
     ]
    },
    {
     "name": "stderr",
     "output_type": "stream",
     "text": [
      "Translating:   3%|▎         | 234/8065 [00:58<46:48,  2.79it/s]"
     ]
    },
    {
     "name": "stdout",
     "output_type": "stream",
     "text": [
      "C'est bon de manger du lait. ---- C'est bon de manger du lait.\n"
     ]
    },
    {
     "name": "stderr",
     "output_type": "stream",
     "text": [
      "Translating:   3%|▎         | 236/8065 [00:58<36:29,  3.58it/s]"
     ]
    },
    {
     "name": "stdout",
     "output_type": "stream",
     "text": [
      "Où avez-vous été ? ---- Où avez-vous été ?\n",
      "elles est passée par là. ---- elles est passée par là.\n"
     ]
    },
    {
     "name": "stderr",
     "output_type": "stream",
     "text": [
      "Translating:   3%|▎         | 237/8065 [00:59<38:03,  3.43it/s]"
     ]
    },
    {
     "name": "stdout",
     "output_type": "stream",
     "text": [
      "Merci en toute humilité. ---- Merci en toute humilité.\n"
     ]
    },
    {
     "name": "stderr",
     "output_type": "stream",
     "text": [
      "Translating:   3%|▎         | 238/8065 [00:59<40:56,  3.19it/s]"
     ]
    },
    {
     "name": "stdout",
     "output_type": "stream",
     "text": [
      "Je ne m'en relèverais pas. ---- Je ne m'en relèverais pas.\n"
     ]
    },
    {
     "name": "stderr",
     "output_type": "stream",
     "text": [
      "Translating:   3%|▎         | 239/8065 [00:59<44:19,  2.94it/s]"
     ]
    },
    {
     "name": "stdout",
     "output_type": "stream",
     "text": [
      "Parlons anglais. ---- Parlons anglais.\n"
     ]
    },
    {
     "name": "stderr",
     "output_type": "stream",
     "text": [
      "Translating:   3%|▎         | 240/8065 [01:00<59:17,  2.20it/s]"
     ]
    },
    {
     "name": "stdout",
     "output_type": "stream",
     "text": [
      "Il y a de l'eau ? ---- Il y a de l’eau ?\n"
     ]
    },
    {
     "name": "stderr",
     "output_type": "stream",
     "text": [
      "Translating:   3%|▎         | 241/8065 [01:01<1:05:35,  1.99it/s]"
     ]
    },
    {
     "name": "stdout",
     "output_type": "stream",
     "text": [
      "Marcof remarqua le mouvement. ---- Marcof remarqua le mouvement.\n"
     ]
    },
    {
     "name": "stderr",
     "output_type": "stream",
     "text": [
      "Translating:   3%|▎         | 242/8065 [01:01<1:01:35,  2.12it/s]"
     ]
    },
    {
     "name": "stdout",
     "output_type": "stream",
     "text": [
      "Voyons, ne te fâche pas... ---- Voyons, ne te fâche pas…\n"
     ]
    },
    {
     "name": "stderr",
     "output_type": "stream",
     "text": [
      "Translating:   3%|▎         | 243/8065 [01:02<58:16,  2.24it/s]  "
     ]
    },
    {
     "name": "stdout",
     "output_type": "stream",
     "text": [
      "Échange et formation. ---- Échange et formation.\n"
     ]
    },
    {
     "name": "stderr",
     "output_type": "stream",
     "text": [
      "Translating:   3%|▎         | 244/8065 [01:03<1:32:38,  1.41it/s]"
     ]
    },
    {
     "name": "stdout",
     "output_type": "stream",
     "text": [
      "vingt et une lettres. ---- vingt et une lettres.\n"
     ]
    },
    {
     "name": "stderr",
     "output_type": "stream",
     "text": [
      "Translating:   3%|▎         | 245/8065 [01:03<1:24:52,  1.54it/s]"
     ]
    },
    {
     "name": "stdout",
     "output_type": "stream",
     "text": [
      "quarante et un éléphants. ---- quarante et un éléphants.\n"
     ]
    },
    {
     "name": "stderr",
     "output_type": "stream",
     "text": [
      "Translating:   3%|▎         | 246/8065 [01:04<1:07:35,  1.93it/s]"
     ]
    },
    {
     "name": "stdout",
     "output_type": "stream",
     "text": [
      "je ne dirai rien. ---- je ne dirai rien.\n"
     ]
    },
    {
     "name": "stderr",
     "output_type": "stream",
     "text": [
      "Translating:   3%|▎         | 247/8065 [01:04<59:53,  2.18it/s]  "
     ]
    },
    {
     "name": "stdout",
     "output_type": "stream",
     "text": [
      "Je vous ai donné la balance ? ---- Je vous ai donné la balance ?\n"
     ]
    },
    {
     "name": "stderr",
     "output_type": "stream",
     "text": [
      "Translating:   3%|▎         | 248/8065 [01:04<1:03:09,  2.06it/s]"
     ]
    },
    {
     "name": "stdout",
     "output_type": "stream",
     "text": [
      "Si j ⁇ avais le temps. ---- Si j’avais le temps.\n"
     ]
    },
    {
     "name": "stderr",
     "output_type": "stream",
     "text": [
      "Translating:   3%|▎         | 249/8065 [01:05<1:02:06,  2.10it/s]"
     ]
    },
    {
     "name": "stdout",
     "output_type": "stream",
     "text": [
      "C ⁇ est lui qui conduira. ---- C’est lui qui conduira.\n"
     ]
    },
    {
     "name": "stderr",
     "output_type": "stream",
     "text": [
      "Translating:   3%|▎         | 250/8065 [01:05<58:02,  2.24it/s]  "
     ]
    },
    {
     "name": "stdout",
     "output_type": "stream",
     "text": [
      "A qui donneras-tu ton cadeau ? ---- A qui donneras-tu ton cadeau ?\n"
     ]
    },
    {
     "name": "stderr",
     "output_type": "stream",
     "text": [
      "Translating:   3%|▎         | 251/8065 [01:06<54:05,  2.41it/s]"
     ]
    },
    {
     "name": "stdout",
     "output_type": "stream",
     "text": [
      "Comment, tu connais monsieur ? ---- Comment, tu connais monsieur ?\n"
     ]
    },
    {
     "name": "stderr",
     "output_type": "stream",
     "text": [
      "Translating:   3%|▎         | 252/8065 [01:06<46:14,  2.82it/s]"
     ]
    },
    {
     "name": "stdout",
     "output_type": "stream",
     "text": [
      "Il demeurera parmi nous. ---- Il demeurera parmi nous.\n"
     ]
    },
    {
     "name": "stderr",
     "output_type": "stream",
     "text": [
      "Translating:   3%|▎         | 253/8065 [01:06<45:00,  2.89it/s]"
     ]
    },
    {
     "name": "stdout",
     "output_type": "stream",
     "text": [
      "trois éléphants. ---- trois éléphants.\n"
     ]
    },
    {
     "name": "stderr",
     "output_type": "stream",
     "text": [
      "Translating:   3%|▎         | 254/8065 [01:07<51:11,  2.54it/s]"
     ]
    }
   ],
   "source": [
    "### Eval ct model\n",
    "\n",
    "device = \"cuda\" if torch.cuda.is_available() else \"cpu\"\n",
    "print(f\"Using device: {device}\")\n",
    "\n",
    "sp_source_model = spm.SentencePieceProcessor(model_file=ct_model_path+'/source.spm')\n",
    "sp_target_model = spm.SentencePieceProcessor(model_file=ct_model_path+'/target.spm')\n",
    "\n",
    "\n",
    "def translate(translator, text):\n",
    "    tokens = sp_source_model.encode(text, out_type=str)\n",
    "    # print(tokens)\n",
    "    tokens = ['dyu'] + tokens + [\"</s>\"] +['fr']\n",
    "    try:\n",
    "        results = translator.translate_batch([tokens])\n",
    "        # The translated results are token strings, so we need to convert them to IDs before decoding\n",
    "        translations = []\n",
    "        for translation in results:\n",
    "            decoded_text = sp_target_model.decode(translation.hypotheses[0])\n",
    "            translations.append(decoded_text)\n",
    "    except Exception as e:\n",
    "        print(f\"Translation error: {e}\")\n",
    "        translations = [\"\"]  # Return empty string if translation fails\n",
    "    return translations\n",
    "\n",
    "def calculate_bleu(references, hypotheses):\n",
    "    bleu = BLEU()\n",
    "    return bleu.corpus_score(hypotheses, [references]).score\n",
    "\n",
    "def validate_model(model_path, dataset_name, split):\n",
    "    # Load CTranslate2 model\n",
    "    translator = ctranslate2.Translator(model_path, device=device)\n",
    "    # Load dataset\n",
    "    dataset = load_dataset(dataset_name, split=split)\n",
    "    # Translate and calculate BLEU score\n",
    "    hypotheses = []\n",
    "    references = []\n",
    "\n",
    "    for batch in tqdm(dataset, desc=\"Translating\"):\n",
    "        source_text = batch['translation']['dyu']  # Adjust this based on your dataset's column names\n",
    "        reference = batch['translation']['fr']  # Adjust this based on your dataset's column names\n",
    "        \n",
    "        # translation = translate(translator, tokenizer, source_text, device)[0]\n",
    "        # tokenizer=None\n",
    "        translation = translate(translator, source_text)[0]\n",
    "        hypotheses.append(translation)\n",
    "        references.append(reference)\n",
    "        print(translation, \"----\", reference)\n",
    "        # break\n",
    "\n",
    "    bleu_score = calculate_bleu(references, hypotheses)\n",
    "    print(f\"BLEU Score: {bleu_score:.2f}\")\n",
    "\n",
    "validate_model(ct_model_path, \"uvci/Koumankan_mt_dyu_fr\", \"train\")"
   ]
  },
  {
   "cell_type": "markdown",
   "metadata": {},
   "source": []
  },
  {
   "cell_type": "code",
   "execution_count": null,
   "metadata": {},
   "outputs": [],
   "source": []
  }
 ],
 "metadata": {
  "kernelspec": {
   "display_name": "zindi-z3yfXQo9-py3.9",
   "language": "python",
   "name": "python3"
  },
  "language_info": {
   "codemirror_mode": {
    "name": "ipython",
    "version": 3
   },
   "file_extension": ".py",
   "mimetype": "text/x-python",
   "name": "python",
   "nbconvert_exporter": "python",
   "pygments_lexer": "ipython3",
   "version": "3.9.5"
  }
 },
 "nbformat": 4,
 "nbformat_minor": 2
}
