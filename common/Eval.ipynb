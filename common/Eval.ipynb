{
 "cells": [
  {
   "cell_type": "code",
   "execution_count": 5,
   "metadata": {},
   "outputs": [
    {
     "name": "stdout",
     "output_type": "stream",
     "text": [
      "/root/zindi\n"
     ]
    }
   ],
   "source": [
    "# %cd /home/rana/Projects/zindi\n",
    "%cd /root/zindi/\n",
    "import yaml\n",
    "with open('common/config.yaml', 'r') as f:\n",
    "    config = yaml.load(f, Loader=yaml.SafeLoader)"
   ]
  },
  {
   "cell_type": "code",
   "execution_count": 6,
   "metadata": {},
   "outputs": [],
   "source": [
    "checkpoint = config.get('checkpoint')\n",
    "new_model_path=config.get('new_model_path')+checkpoint\n",
    "ct_model_path=config.get('ct_model_path')+checkpoint\n",
    "\n",
    "# model_checkpoint=\"/root/zindi/models/marian/marian_output/\"+checkpoint\n",
    "# model_checkpoint_ct=\"/root/zindi/models/marian/ct/\"+checkpoint"
   ]
  },
  {
   "cell_type": "code",
   "execution_count": 13,
   "metadata": {},
   "outputs": [],
   "source": [
    "import tqdm as notebook_tqdm\n",
    "import torch\n",
    "from transformers import AutoTokenizer, AutoModelForSeq2SeqLM\n",
    "from datasets import load_dataset\n",
    "from sacrebleu.metrics import BLEU\n",
    "from tqdm import tqdm\n",
    "import sentencepiece as spm\n",
    "import ctranslate2"
   ]
  },
  {
   "cell_type": "code",
   "execution_count": 8,
   "metadata": {},
   "outputs": [
    {
     "name": "stdout",
     "output_type": "stream",
     "text": [
      "Using device: cuda\n"
     ]
    },
    {
     "name": "stderr",
     "output_type": "stream",
     "text": [
      "Translating:   0%|          | 0/1471 [00:00<?, ?it/s]\n"
     ]
    },
    {
     "ename": "ValueError",
     "evalue": "`decoder_start_token_id` or `bos_token_id` has to be defined for encoder-decoder generation.",
     "output_type": "error",
     "traceback": [
      "\u001b[0;31m---------------------------------------------------------------------------\u001b[0m",
      "\u001b[0;31mValueError\u001b[0m                                Traceback (most recent call last)",
      "Cell \u001b[0;32mIn[8], line 46\u001b[0m\n\u001b[1;32m     40\u001b[0m     \u001b[38;5;28mprint\u001b[39m(\u001b[38;5;124mf\u001b[39m\u001b[38;5;124m\"\u001b[39m\u001b[38;5;124mBLEU Score: \u001b[39m\u001b[38;5;132;01m{\u001b[39;00mbleu_score\u001b[38;5;132;01m:\u001b[39;00m\u001b[38;5;124m.2f\u001b[39m\u001b[38;5;132;01m}\u001b[39;00m\u001b[38;5;124m\"\u001b[39m)\n\u001b[1;32m     42\u001b[0m \u001b[38;5;66;03m# Run validation with GPU\u001b[39;00m\n\u001b[1;32m     43\u001b[0m \u001b[38;5;66;03m# validate_model(model_checkpoint, \"uvci/Koumankan_mt_dyu_fr\", use_gpu=True)\u001b[39;00m\n\u001b[1;32m     44\u001b[0m \n\u001b[1;32m     45\u001b[0m \u001b[38;5;66;03m# Run validation without GPU\u001b[39;00m\n\u001b[0;32m---> 46\u001b[0m \u001b[43mvalidate_model\u001b[49m\u001b[43m(\u001b[49m\u001b[43mnew_model_path\u001b[49m\u001b[43m,\u001b[49m\u001b[43m \u001b[49m\u001b[38;5;124;43m\"\u001b[39;49m\u001b[38;5;124;43muvci/Koumankan_mt_dyu_fr\u001b[39;49m\u001b[38;5;124;43m\"\u001b[39;49m\u001b[43m,\u001b[49m\u001b[43m \u001b[49m\u001b[38;5;124;43m\"\u001b[39;49m\u001b[38;5;124;43mvalidation\u001b[39;49m\u001b[38;5;124;43m\"\u001b[39;49m\u001b[43m)\u001b[49m\n",
      "Cell \u001b[0;32mIn[8], line 31\u001b[0m, in \u001b[0;36mvalidate_model\u001b[0;34m(model_name, dataset_name, split)\u001b[0m\n\u001b[1;32m     28\u001b[0m source_text \u001b[38;5;241m=\u001b[39m batch[\u001b[38;5;124m'\u001b[39m\u001b[38;5;124mtranslation\u001b[39m\u001b[38;5;124m'\u001b[39m][\u001b[38;5;124m'\u001b[39m\u001b[38;5;124mdyu\u001b[39m\u001b[38;5;124m'\u001b[39m]  \u001b[38;5;66;03m# Adjust this based on your dataset's column names\u001b[39;00m\n\u001b[1;32m     29\u001b[0m reference \u001b[38;5;241m=\u001b[39m batch[\u001b[38;5;124m'\u001b[39m\u001b[38;5;124mtranslation\u001b[39m\u001b[38;5;124m'\u001b[39m][\u001b[38;5;124m'\u001b[39m\u001b[38;5;124mfr\u001b[39m\u001b[38;5;124m'\u001b[39m]  \u001b[38;5;66;03m# Adjust this based on your dataset's column names\u001b[39;00m\n\u001b[0;32m---> 31\u001b[0m translation \u001b[38;5;241m=\u001b[39m \u001b[43mtranslate\u001b[49m\u001b[43m(\u001b[49m\u001b[43mmodel\u001b[49m\u001b[43m,\u001b[49m\u001b[43m \u001b[49m\u001b[43mtokenizer\u001b[49m\u001b[43m,\u001b[49m\u001b[43m \u001b[49m\u001b[43msource_text\u001b[49m\u001b[43m,\u001b[49m\u001b[43m \u001b[49m\u001b[43mdevice\u001b[49m\u001b[43m)\u001b[49m[\u001b[38;5;241m0\u001b[39m]\n\u001b[1;32m     32\u001b[0m \u001b[38;5;66;03m# print(reference)\u001b[39;00m\n\u001b[1;32m     33\u001b[0m \u001b[38;5;66;03m# print(translation)\u001b[39;00m\n\u001b[1;32m     35\u001b[0m hypotheses\u001b[38;5;241m.\u001b[39mappend(translation)\n",
      "Cell \u001b[0;32mIn[8], line 5\u001b[0m, in \u001b[0;36mtranslate\u001b[0;34m(model, tokenizer, text, device)\u001b[0m\n\u001b[1;32m      3\u001b[0m \u001b[38;5;28;01mdef\u001b[39;00m \u001b[38;5;21mtranslate\u001b[39m(model, tokenizer, text, device):\n\u001b[1;32m      4\u001b[0m     inputs \u001b[38;5;241m=\u001b[39m tokenizer(text, return_tensors\u001b[38;5;241m=\u001b[39m\u001b[38;5;124m\"\u001b[39m\u001b[38;5;124mpt\u001b[39m\u001b[38;5;124m\"\u001b[39m, padding\u001b[38;5;241m=\u001b[39m\u001b[38;5;28;01mTrue\u001b[39;00m, truncation\u001b[38;5;241m=\u001b[39m\u001b[38;5;28;01mTrue\u001b[39;00m, max_length\u001b[38;5;241m=\u001b[39m\u001b[38;5;241m150\u001b[39m)\u001b[38;5;241m.\u001b[39mto(device)\n\u001b[0;32m----> 5\u001b[0m     translated \u001b[38;5;241m=\u001b[39m \u001b[43mmodel\u001b[49m\u001b[38;5;241;43m.\u001b[39;49m\u001b[43mgenerate\u001b[49m\u001b[43m(\u001b[49m\u001b[38;5;241;43m*\u001b[39;49m\u001b[38;5;241;43m*\u001b[39;49m\u001b[43minputs\u001b[49m\u001b[43m)\u001b[49m\n\u001b[1;32m      6\u001b[0m     \u001b[38;5;28;01mreturn\u001b[39;00m tokenizer\u001b[38;5;241m.\u001b[39mbatch_decode(translated, skip_special_tokens\u001b[38;5;241m=\u001b[39m\u001b[38;5;28;01mTrue\u001b[39;00m)\n",
      "File \u001b[0;32m~/.cache/pypoetry/virtualenvs/zindi-LtLKIbXv-py3.9/lib/python3.9/site-packages/torch/utils/_contextlib.py:116\u001b[0m, in \u001b[0;36mcontext_decorator.<locals>.decorate_context\u001b[0;34m(*args, **kwargs)\u001b[0m\n\u001b[1;32m    113\u001b[0m \u001b[38;5;129m@functools\u001b[39m\u001b[38;5;241m.\u001b[39mwraps(func)\n\u001b[1;32m    114\u001b[0m \u001b[38;5;28;01mdef\u001b[39;00m \u001b[38;5;21mdecorate_context\u001b[39m(\u001b[38;5;241m*\u001b[39margs, \u001b[38;5;241m*\u001b[39m\u001b[38;5;241m*\u001b[39mkwargs):\n\u001b[1;32m    115\u001b[0m     \u001b[38;5;28;01mwith\u001b[39;00m ctx_factory():\n\u001b[0;32m--> 116\u001b[0m         \u001b[38;5;28;01mreturn\u001b[39;00m \u001b[43mfunc\u001b[49m\u001b[43m(\u001b[49m\u001b[38;5;241;43m*\u001b[39;49m\u001b[43margs\u001b[49m\u001b[43m,\u001b[49m\u001b[43m \u001b[49m\u001b[38;5;241;43m*\u001b[39;49m\u001b[38;5;241;43m*\u001b[39;49m\u001b[43mkwargs\u001b[49m\u001b[43m)\u001b[49m\n",
      "File \u001b[0;32m~/zindi/transformers/src/transformers/generation/utils.py:1713\u001b[0m, in \u001b[0;36mGenerationMixin.generate\u001b[0;34m(self, inputs, generation_config, logits_processor, stopping_criteria, prefix_allowed_tokens_fn, synced_gpus, assistant_model, streamer, negative_prompt_ids, negative_prompt_attention_mask, **kwargs)\u001b[0m\n\u001b[1;32m   1710\u001b[0m batch_size \u001b[38;5;241m=\u001b[39m inputs_tensor\u001b[38;5;241m.\u001b[39mshape[\u001b[38;5;241m0\u001b[39m]\n\u001b[1;32m   1712\u001b[0m device \u001b[38;5;241m=\u001b[39m inputs_tensor\u001b[38;5;241m.\u001b[39mdevice\n\u001b[0;32m-> 1713\u001b[0m \u001b[38;5;28;43mself\u001b[39;49m\u001b[38;5;241;43m.\u001b[39;49m\u001b[43m_prepare_special_tokens\u001b[49m\u001b[43m(\u001b[49m\u001b[43mgeneration_config\u001b[49m\u001b[43m,\u001b[49m\u001b[43m \u001b[49m\u001b[43mkwargs_has_attention_mask\u001b[49m\u001b[43m,\u001b[49m\u001b[43m \u001b[49m\u001b[43mdevice\u001b[49m\u001b[38;5;241;43m=\u001b[39;49m\u001b[43mdevice\u001b[49m\u001b[43m)\u001b[49m\n\u001b[1;32m   1715\u001b[0m \u001b[38;5;66;03m# decoder-only models must use left-padding for batched generation.\u001b[39;00m\n\u001b[1;32m   1716\u001b[0m \u001b[38;5;28;01mif\u001b[39;00m \u001b[38;5;129;01mnot\u001b[39;00m \u001b[38;5;28mself\u001b[39m\u001b[38;5;241m.\u001b[39mconfig\u001b[38;5;241m.\u001b[39mis_encoder_decoder \u001b[38;5;129;01mand\u001b[39;00m \u001b[38;5;129;01mnot\u001b[39;00m is_torchdynamo_compiling():\n\u001b[1;32m   1717\u001b[0m     \u001b[38;5;66;03m# If `input_ids` was given, check if the last id in any sequence is `pad_token_id`\u001b[39;00m\n\u001b[1;32m   1718\u001b[0m     \u001b[38;5;66;03m# Note: If using, `inputs_embeds` this check does not work, because we want to be more hands-off.\u001b[39;00m\n",
      "File \u001b[0;32m~/zindi/transformers/src/transformers/generation/utils.py:1556\u001b[0m, in \u001b[0;36mGenerationMixin._prepare_special_tokens\u001b[0;34m(self, generation_config, kwargs_has_attention_mask, device)\u001b[0m\n\u001b[1;32m   1554\u001b[0m \u001b[38;5;66;03m# Sanity checks/warnings\u001b[39;00m\n\u001b[1;32m   1555\u001b[0m \u001b[38;5;28;01mif\u001b[39;00m \u001b[38;5;28mself\u001b[39m\u001b[38;5;241m.\u001b[39mconfig\u001b[38;5;241m.\u001b[39mis_encoder_decoder \u001b[38;5;129;01mand\u001b[39;00m decoder_start_token_tensor \u001b[38;5;129;01mis\u001b[39;00m \u001b[38;5;28;01mNone\u001b[39;00m:\n\u001b[0;32m-> 1556\u001b[0m     \u001b[38;5;28;01mraise\u001b[39;00m \u001b[38;5;167;01mValueError\u001b[39;00m(\n\u001b[1;32m   1557\u001b[0m         \u001b[38;5;124m\"\u001b[39m\u001b[38;5;124m`decoder_start_token_id` or `bos_token_id` has to be defined for encoder-decoder generation.\u001b[39m\u001b[38;5;124m\"\u001b[39m\n\u001b[1;32m   1558\u001b[0m     )\n\u001b[1;32m   1559\u001b[0m \u001b[38;5;28;01mif\u001b[39;00m \u001b[38;5;129;01mnot\u001b[39;00m is_torchdynamo_compiling():  \u001b[38;5;66;03m# Checks that depend on tensor-dependent control flow\u001b[39;00m\n\u001b[1;32m   1560\u001b[0m     \u001b[38;5;28;01mif\u001b[39;00m (\n\u001b[1;32m   1561\u001b[0m         eos_token_tensor \u001b[38;5;129;01mis\u001b[39;00m \u001b[38;5;129;01mnot\u001b[39;00m \u001b[38;5;28;01mNone\u001b[39;00m\n\u001b[1;32m   1562\u001b[0m         \u001b[38;5;129;01mand\u001b[39;00m torch\u001b[38;5;241m.\u001b[39misin(elements\u001b[38;5;241m=\u001b[39meos_token_tensor, test_elements\u001b[38;5;241m=\u001b[39mpad_token_tensor)\u001b[38;5;241m.\u001b[39many()\n\u001b[1;32m   1563\u001b[0m     ):\n",
      "\u001b[0;31mValueError\u001b[0m: `decoder_start_token_id` or `bos_token_id` has to be defined for encoder-decoder generation."
     ]
    }
   ],
   "source": [
    "### Eval original model \n",
    "\n",
    "def translate(model, tokenizer, text, device):\n",
    "    inputs = tokenizer(text, return_tensors=\"pt\", padding=True, truncation=True, max_length=150).to(device)\n",
    "    translated = model.generate(**inputs)\n",
    "    return tokenizer.batch_decode(translated, skip_special_tokens=True)\n",
    "\n",
    "def calculate_bleu(references, hypotheses):\n",
    "    bleu = BLEU()\n",
    "    return bleu.corpus_score(hypotheses, [references]).score\n",
    "\n",
    "def validate_model(model_name, dataset_name, split):\n",
    "    device = torch.device(\"cuda\" if torch.cuda.is_available() else \"cpu\")\n",
    "    print(f\"Using device: {device}\")\n",
    "\n",
    "    # Load model and tokenizer\n",
    "    tokenizer = AutoTokenizer.from_pretrained(model_name)\n",
    "    model = AutoModelForSeq2SeqLM.from_pretrained(model_name).to(device)\n",
    "\n",
    "    # Load dataset\n",
    "    dataset = load_dataset(dataset_name, split=split)\n",
    "\n",
    "    # Translate and calculate BLEU score\n",
    "    hypotheses = []\n",
    "    references = []\n",
    "\n",
    "    for batch in tqdm(dataset, desc=\"Translating\"):\n",
    "        source_text = batch['translation']['dyu']  # Adjust this based on your dataset's column names\n",
    "        reference = batch['translation']['fr']  # Adjust this based on your dataset's column names\n",
    "        \n",
    "        translation = translate(model, tokenizer, source_text, device)[0]\n",
    "        # print(reference)\n",
    "        # print(translation)\n",
    "        \n",
    "        hypotheses.append(translation)\n",
    "        references.append(reference)\n",
    "        # break\n",
    "\n",
    "    bleu_score = calculate_bleu(references, hypotheses)\n",
    "    print(f\"BLEU Score: {bleu_score:.2f}\")\n",
    "\n",
    "# Run validation with GPU\n",
    "# validate_model(model_checkpoint, \"uvci/Koumankan_mt_dyu_fr\", use_gpu=True)\n",
    "\n",
    "# Run validation without GPU\n",
    "validate_model(new_model_path, \"uvci/Koumankan_mt_dyu_fr\", \"validation\")"
   ]
  },
  {
   "cell_type": "code",
   "execution_count": 14,
   "metadata": {},
   "outputs": [
    {
     "name": "stdout",
     "output_type": "stream",
     "text": [
      "Using device: cuda\n"
     ]
    },
    {
     "name": "stderr",
     "output_type": "stream",
     "text": [
      "Translating:   0%|          | 8/8065 [00:00<03:25, 39.24it/s]"
     ]
    },
    {
     "name": "stdout",
     "output_type": "stream",
     "text": [
      "Il boit de l ⁇ eau. ---- Il boit de l’eau.\n",
      "Il se plaint toujours. ---- Il se plaint toujours.\n",
      "Quoi ? Quelque chose. ---- Quoi ? Quelque chose.\n",
      "Tous sortent excepté Gubetta. ---- Tous sortent excepté Gubetta.\n",
      "Ah ! c ⁇ est lui... il sonne... ---- Ah ! c’est lui… il sonne…\n",
      "Et sans rapport. ---- Et sans rapport.\n",
      "J'ai suffisamment d'or. ---- J'ai suffisamment d'or.\n",
      "Oui ; mais dans quel but ? ---- Oui ; mais dans quel but ?\n",
      "de grands gars forts. ---- de grands gars forts.\n",
      "Un civil a été capturé?! ---- Un civil a été capturé?!\n",
      "D ⁇ autres chaises. ---- D’autres chaises.\n",
      "Quarante-sept renards. ---- Quarante-sept renards.\n"
     ]
    },
    {
     "name": "stderr",
     "output_type": "stream",
     "text": [
      "Translating:   0%|          | 21/8065 [00:00<02:29, 53.70it/s]"
     ]
    },
    {
     "name": "stdout",
     "output_type": "stream",
     "text": [
      "Qui a bouché les toilettes? ---- Qui a bouché les toilettes?\n",
      "Alors, vous me chassez ? ---- Alors, vous me chassez ?\n",
      "j'aime ce livre. ---- j'aime ce livre.\n",
      "C ⁇ est tout le monde. ---- Elle sort par le fond.\n",
      "Achète les trois couleurs. ---- Achète les trois couleurs.\n",
      "J'ai fait une erreur. ---- J'ai fait une erreur.\n",
      "Surtout pas trop tôt. ---- Surtout pas trop tôt.\n",
      "Et moi, ça me fait des peurs... ---- Et moi, ça me fait des peurs…\n",
      "Quelle jolie maison ! ---- Quelle jolie maison !\n",
      "Il s ⁇ en est tiré. ---- Il s’en est tiré.\n",
      "Qui a éteint la lumière ? ---- Qui a éteint la lumière ?\n",
      "Il ne peut pas faire plus. ---- Il ne peut pas faire plus.\n",
      "C ⁇ est un homme précieux. ---- Il est présent en France.\n"
     ]
    },
    {
     "name": "stderr",
     "output_type": "stream",
     "text": [
      "Translating:   0%|          | 35/8065 [00:00<02:12, 60.46it/s]"
     ]
    },
    {
     "name": "stdout",
     "output_type": "stream",
     "text": [
      "Il pratiquait le baseball. ---- Il pratiquait le baseball.\n",
      "Le commissaire lève la tête. ---- Le commissaire lève la tête.\n",
      "Nous rentrerons dans la nuit. ---- Nous rentrerons dans la nuit.\n",
      "T ⁇ as encore bien fait... ---- T’as encore bien fait…\n",
      "Je ne veux pas !... ---- Je ne veux pas !…\n",
      "Ernest, notre aîné. ---- Nous avions eu peur.\n",
      "Une vingtaine de joueurs. ---- Une vingtaine de joueurs.\n",
      "Vous devriez avoir honte. ---- Vous devriez avoir honte.\n",
      "le temps est froid. ---- le temps est froid.\n",
      "Il y a de l'eau ? ---- Il y a de l'eau ?\n",
      "elle est debout. ---- elle est debout.\n",
      "Quel métier faites-vous ? ---- Quel métier faites-vous ?\n",
      "Cet enfant a les yeux bleus. ---- Cet enfant a les yeux bleus.\n",
      "C ⁇ est l ⁇ habitude. ---- C’est l’habitude.\n"
     ]
    },
    {
     "name": "stderr",
     "output_type": "stream",
     "text": [
      "Translating:   1%|          | 48/8065 [00:00<02:18, 57.69it/s]"
     ]
    },
    {
     "name": "stdout",
     "output_type": "stream",
     "text": [
      "Tout cela demande du temps. ---- Tout cela demande du temps.\n",
      "La femme est son sujet favori. ---- La femme est son sujet favori.\n",
      "Celle-ci a disparu. ---- Celle-ci a disparu.\n",
      "Va-t'en, je vais m'habiller. ---- Va-t'en, je vais m'habiller.\n",
      "tu es sûr qu'on aimerait. ---- tu es sûr qu'on aimerait.\n",
      "À ses risques et périls... ---- À ses risques et périls...\n",
      "Ce cadeau est à toi et à moi. ---- Ce cadeau est à toi et à moi.\n",
      "Ce n ⁇ est pas la question. ---- Ce n’est pas la question.\n",
      "Ce que cela peut faire ?... ---- Ce que cela peut faire ?…\n",
      "nous chassions donc le canard... ---- nous, nous lisons.\n",
      "Quel charlatan tu ferais !... ---- Quel charlatan tu ferais !…\n"
     ]
    },
    {
     "name": "stderr",
     "output_type": "stream",
     "text": [
      "Translating:   1%|          | 61/8065 [00:01<02:16, 58.75it/s]"
     ]
    },
    {
     "name": "stdout",
     "output_type": "stream",
     "text": [
      "Belle proposition en effet ---- Belle proposition en effet\n",
      "Il a été très frappé. ---- Il a été très frappé.\n",
      "Tu peux tenir mon doudou? ---- Tu peux tenir mon doudou?\n",
      "Delliponti a un petit frère. ---- Delliponti a un petit frère.\n",
      "Soixante et onze. ---- Soixante et onze.\n",
      "Rue de la Haute Guais à Dinard ---- Je ferai la route à pied.\n",
      "Bientôt il éleva le ton. ---- Bientôt il éleva le ton.\n",
      "On se fait un italien? ---- On se fait un italien?\n",
      "Quelle négligence, se dit-il. ---- Quelle négligence, se dit-il.\n",
      "Maxime ne vit pas. ---- Ça ne compte pas.\n",
      "Je ne comprends pas !... ---- Je ne comprends pas !…\n",
      "Son siège est Brookings. ---- Son siège est Brookings.\n"
     ]
    },
    {
     "name": "stderr",
     "output_type": "stream",
     "text": [
      "Translating:   1%|          | 74/8065 [00:01<02:10, 61.26it/s]"
     ]
    },
    {
     "name": "stdout",
     "output_type": "stream",
     "text": [
      "Micheline m ⁇ a tout dit. ---- Micheline m’a tout dit.\n",
      "Tu avais promis de m ⁇ attendre. ---- Tu avais promis de m’attendre.\n",
      "Je pars à Salem demain soir. ---- Je pars à Salem demain soir.\n",
      "Elle est admirable. ---- Elle est admirable.\n",
      "Que c ⁇ est froid ! ---- Que c’est froid !\n",
      "Il jouait avec eux. ---- Il jouait avec eux.\n",
      "Il met fin à sa saison. ---- Il met fin à sa saison.\n",
      "Vous êtes très aimable. ---- Vous êtes très aimable.\n",
      "La jument bondit. ---- La jument bondit.\n",
      "Quelle est cette femme? ---- Quelle est cette femme?\n",
      "Voilà vos deux francs ...'. ---- Voilà vos deux francs …'.\n",
      "Elle ne sait jamais rien ! ---- Elle ne sait jamais rien !\n",
      "Comment était le voyage ? ---- Comment était le voyage ?\n"
     ]
    },
    {
     "name": "stderr",
     "output_type": "stream",
     "text": [
      "Translating:   1%|          | 81/8065 [00:01<02:24, 55.15it/s]"
     ]
    },
    {
     "name": "stdout",
     "output_type": "stream",
     "text": [
      "La vie est parfois si longue. ---- La vie est parfois si longue.\n",
      "Dans les maisons. ---- Dans les maisons.\n",
      "Deux points d ⁇ avance. ---- Deux points d’avance.\n",
      "il est cinq heures. ---- il est cinq heures.\n",
      "Comment s'appelle votre sœur ? ---- Comment s'appelle votre sœur ?\n",
      "Une minute cinquante. ---- Une minute cinquante.\n",
      "Il ne fait pas beau. ---- Il ne fait pas beau.\n",
      "J'avais le cœur serré. ---- J'avais le cœur serré.\n",
      "Je suis sûr qu ⁇ il aurait aimé. ---- Je suis sûr qu’il aurait aimé.\n",
      "La jument bondit. ---- La jument bondit.\n"
     ]
    },
    {
     "name": "stderr",
     "output_type": "stream",
     "text": [
      "Translating:   1%|          | 93/8065 [00:01<02:27, 54.16it/s]"
     ]
    },
    {
     "name": "stdout",
     "output_type": "stream",
     "text": [
      "Va-t ⁇ en ! je te chasse. ---- Va-t’en ! je te chasse.\n",
      "Il peut donc être retiré. ---- Il peut donc être retiré.\n",
      "T'as eu des étudiants toi? ---- T'as eu des étudiants toi?\n",
      "C ⁇ est difficile. ---- C’est difficile.\n",
      "Il parle dans le téléphone. ---- Il parle dans le téléphone.\n",
      "Audace n'est pas déraison ---- Audace n'est pas déraison\n",
      "Dis-leur à tous les cinq. ---- Dis-leur à tous les cinq.\n",
      "Vos trois têtes. ---- Vos trois têtes.\n",
      "il faut que j'y arrive. ---- il faut que j'y arrive.\n",
      "Il répond malaisément. ---- Il répond malaisément.\n",
      "Un autre animal jaune. ---- Un autre animal jaune.\n",
      "Une jupe quelconque. ---- Une jupe quelconque.\n",
      "Je clos la parenthèse. ---- Je clos la parenthèse.\n"
     ]
    },
    {
     "name": "stderr",
     "output_type": "stream",
     "text": [
      "Translating:   1%|▏         | 107/8065 [00:01<02:15, 58.91it/s]"
     ]
    },
    {
     "name": "stdout",
     "output_type": "stream",
     "text": [
      "Je vous ai donné la balance ? ---- Je vous ai donné la balance ?\n",
      "Dix-sept maisons. ---- Dix-sept maisons.\n",
      "J'habite à Londres. ---- J'habite à Londres.\n",
      "Il s ⁇ assit près du lit. ---- Il s’assit près du lit.\n",
      "Je cours rassurer nos amis. ---- Je cours rassurer nos amis.\n",
      "Est-ce qu ⁇ il viendra ? ---- Est-ce qu’il viendra ?\n",
      "Il est mort à Milan. ---- Il est mort à Milan.\n",
      "C ⁇ est compréhensible. ---- C’est compréhensible.\n",
      "Il faut en tenir compte. ---- Il faut en tenir compte.\n",
      "C ⁇ est toujours comme ça ici ? ---- C’est toujours comme ça ici ?\n",
      "Vous savez combien il coûte ? ---- Vous savez combien il coûte ?\n",
      "Je n ⁇ attends personne. ---- Je n’attends personne.\n",
      "Ce n ⁇ est pas d ⁇ un jeu. ---- Ce n’est pas d’un jeu.\n"
     ]
    },
    {
     "name": "stderr",
     "output_type": "stream",
     "text": [
      "Translating:   2%|▏         | 121/8065 [00:02<02:08, 61.84it/s]"
     ]
    },
    {
     "name": "stdout",
     "output_type": "stream",
     "text": [
      "Ne le frappez pas. ---- Ne le frappez pas.\n",
      "Je vous verrai plus tard. ---- Je vous verrai plus tard.\n",
      "Je n ⁇ en suis pas prêt. ---- Je n’en suis pas sûre\n",
      "La chaise est cassée. ---- La chaise est cassée.\n",
      "Et si on commandait une pizza? ---- Et si on commandait une pizza?\n",
      "Vous savez comment cuisiner ? ---- Vous savez comment cuisiner ?\n",
      "J ⁇ aimerais ta sœur. ---- J’aimerais ta sœur.\n",
      "Le ciel était sombre. ---- Le ciel était sombre.\n",
      "Quel métier faites-vous ? ---- Quel métier faites-vous ?\n",
      "Tu reprendras de la viande ? ---- Tu reprendras de la viande ?\n",
      "Il souffre de calvitie. ---- Il souffre de calvitie.\n",
      "Tu comprends, maintenant? ---- Tu comprends, maintenant?\n",
      "Un tout petit petit papillon. ---- Un tout petit petit papillon.\n",
      "Marcof les calma du geste. ---- Marcof les calma du geste.\n"
     ]
    },
    {
     "name": "stderr",
     "output_type": "stream",
     "text": [
      "Translating:   2%|▏         | 135/8065 [00:02<02:07, 62.21it/s]"
     ]
    },
    {
     "name": "stdout",
     "output_type": "stream",
     "text": [
      "Où sont les livres ? ---- Où sont les livres ?\n",
      "En tout cas, je le souhaite. ---- En tout cas, je le souhaite.\n",
      "Je ferai deux remarques. ---- Je ferai deux remarques.\n",
      "C'est un vrai sujet de fond. ---- Ils sont extrèmement connus.\n",
      "Les autres juges étaient élus. ---- Les autres juges étaient élus.\n",
      "Cela commence mal ---- Cela commence mal\n",
      "Mais cet ami est sacré. ---- Mais cet ami est sacré.\n",
      "Il a dit quelque chose ? ---- Il a dit quelque chose ?\n",
      "J ⁇ ai une paire de ciseaux. ---- J’ai une paire de ciseaux.\n",
      "On fait attendre les gens. ---- On fait attendre les gens.\n",
      "un demi litre de lait ---- un demi litre de lait\n",
      "C ⁇ est assez bon. ---- C’est assez bon.\n"
     ]
    },
    {
     "name": "stderr",
     "output_type": "stream",
     "text": [
      "Translating:   2%|▏         | 149/8065 [00:02<02:09, 61.11it/s]"
     ]
    },
    {
     "name": "stdout",
     "output_type": "stream",
     "text": [
      "Ruiné, il rentre à Paris. ---- Ruiné, il rentre à Paris.\n",
      "Combien d'enfants ? ---- Combien d'enfants ?\n",
      "Vous parlez anglais ? ---- Vous parlez anglais ?\n",
      "N ⁇ importe quoi ! ---- N’importe quoi !\n",
      "Il n ⁇ aime donc pas sa femme ? ---- Il n’aime donc pas sa femme ?\n",
      "nous étions en train d'aller. ---- nous étions en train d'aller.\n",
      "Ils ont chacun un chapeau. ---- Ils ont chacun un chapeau.\n",
      "Qu ⁇ est-ce que c ⁇ est mauvais ! ---- Qu’est-ce que c’est mauvais !\n",
      "De quelle couleur il est ? ---- De quelle couleur il est ?\n",
      "La Vierge Marie. ---- La Vierge Marie.\n",
      "Cette maison te plaira. ---- Cette maison te plaira.\n",
      "elles, elles ont aimé. ---- elles, elles ont aimé.\n"
     ]
    },
    {
     "name": "stderr",
     "output_type": "stream",
     "text": [
      "Translating:   2%|▏         | 163/8065 [00:02<02:06, 62.62it/s]"
     ]
    },
    {
     "name": "stdout",
     "output_type": "stream",
     "text": [
      "tu es sûr que tu aimes. ---- tu es sûr que tu aimeras.\n",
      "Où travaillez-vous ? ---- Où travaillez-vous ?\n",
      "je ne veux pas partir. ---- je ne veux pas partir.\n",
      "elle est partie. ---- elle est partie.\n",
      "Vous avez mangé ensemble ? ---- Vous avez mangé ensemble ?\n",
      "Comment le savez-vous ? ---- Comment le savez-vous ?\n",
      "C'est à qui de jouer ? ---- C'est à qui de jouer ?\n",
      "Il se rassit, croisa les bras. ---- Il se rassit, croisa les bras.\n",
      "tu es sûr que tu aimas. ---- tu es sûr que tu aimas.\n",
      "Nous y serons attentifs. ---- Nous y serons attentifs.\n",
      "C'est un centre industriel. ---- C'est un centre industriel.\n",
      "Les enfants, venez manger. ---- Les enfants, venez manger.\n",
      "Ils la complimentaient. ---- Ils la complimentaient.\n",
      "Il sort par la droite. ---- Il sort par la droite.\n"
     ]
    },
    {
     "name": "stderr",
     "output_type": "stream",
     "text": [
      "Translating:   2%|▏         | 170/8065 [00:02<02:11, 60.09it/s]"
     ]
    },
    {
     "name": "stdout",
     "output_type": "stream",
     "text": [
      "Il toussa encore. ---- Il toussa encore.\n",
      "Dans la tête et le cœur. ---- Dans la tête et le cœur.\n",
      "Respectez le ministre ---- Respectez le ministre\n",
      "Quel stupide animal ! ---- Quel stupide animal !\n",
      "Pas un mo sur ça. ---- Pas un mo sur ça.\n",
      "Quatre éléphants. ---- Quatre éléphants.\n",
      "J'ai reçu leur offre ce matin. ---- J'ai reçu leur offre ce matin.\n",
      "Tu le traites quinze jours... ---- Tu le traites quinze jours…\n",
      "C ⁇ est exact, je vous remercie. ---- C’est exact, je vous remercie.\n"
     ]
    },
    {
     "name": "stderr",
     "output_type": "stream",
     "text": [
      "Translating:   2%|▏         | 174/8065 [00:03<02:19, 56.51it/s]\n"
     ]
    },
    {
     "name": "stdout",
     "output_type": "stream",
     "text": [
      "Entrez, asseyez-vous. ---- Entrez, asseyez-vous.\n",
      "Tout cela est aléatoire. ---- Tout cela est aléatoire.\n"
     ]
    },
    {
     "ename": "KeyboardInterrupt",
     "evalue": "",
     "output_type": "error",
     "traceback": [
      "\u001b[0;31m---------------------------------------------------------------------------\u001b[0m",
      "\u001b[0;31mKeyboardInterrupt\u001b[0m                         Traceback (most recent call last)",
      "Cell \u001b[0;32mIn[14], line 54\u001b[0m\n\u001b[1;32m     51\u001b[0m     bleu_score \u001b[38;5;241m=\u001b[39m calculate_bleu(references, hypotheses)\n\u001b[1;32m     52\u001b[0m     \u001b[38;5;28mprint\u001b[39m(\u001b[38;5;124mf\u001b[39m\u001b[38;5;124m\"\u001b[39m\u001b[38;5;124mBLEU Score: \u001b[39m\u001b[38;5;132;01m{\u001b[39;00mbleu_score\u001b[38;5;132;01m:\u001b[39;00m\u001b[38;5;124m.2f\u001b[39m\u001b[38;5;132;01m}\u001b[39;00m\u001b[38;5;124m\"\u001b[39m)\n\u001b[0;32m---> 54\u001b[0m \u001b[43mvalidate_model\u001b[49m\u001b[43m(\u001b[49m\u001b[43mct_model_path\u001b[49m\u001b[43m,\u001b[49m\u001b[43m \u001b[49m\u001b[38;5;124;43m\"\u001b[39;49m\u001b[38;5;124;43muvci/Koumankan_mt_dyu_fr\u001b[39;49m\u001b[38;5;124;43m\"\u001b[39;49m\u001b[43m,\u001b[49m\u001b[43m \u001b[49m\u001b[38;5;124;43m\"\u001b[39;49m\u001b[38;5;124;43mtrain\u001b[39;49m\u001b[38;5;124;43m\"\u001b[39;49m\u001b[43m)\u001b[49m\n",
      "Cell \u001b[0;32mIn[14], line 45\u001b[0m, in \u001b[0;36mvalidate_model\u001b[0;34m(model_path, dataset_name, split)\u001b[0m\n\u001b[1;32m     41\u001b[0m reference \u001b[38;5;241m=\u001b[39m batch[\u001b[38;5;124m'\u001b[39m\u001b[38;5;124mtranslation\u001b[39m\u001b[38;5;124m'\u001b[39m][\u001b[38;5;124m'\u001b[39m\u001b[38;5;124mfr\u001b[39m\u001b[38;5;124m'\u001b[39m]  \u001b[38;5;66;03m# Adjust this based on your dataset's column names\u001b[39;00m\n\u001b[1;32m     43\u001b[0m \u001b[38;5;66;03m# translation = translate(translator, tokenizer, source_text, device)[0]\u001b[39;00m\n\u001b[1;32m     44\u001b[0m \u001b[38;5;66;03m# tokenizer=None\u001b[39;00m\n\u001b[0;32m---> 45\u001b[0m translation \u001b[38;5;241m=\u001b[39m \u001b[43mtranslate\u001b[49m\u001b[43m(\u001b[49m\u001b[43mtranslator\u001b[49m\u001b[43m,\u001b[49m\u001b[43m \u001b[49m\u001b[43msource_text\u001b[49m\u001b[43m)\u001b[49m[\u001b[38;5;241m0\u001b[39m]\n\u001b[1;32m     46\u001b[0m hypotheses\u001b[38;5;241m.\u001b[39mappend(translation)\n\u001b[1;32m     47\u001b[0m references\u001b[38;5;241m.\u001b[39mappend(reference)\n",
      "Cell \u001b[0;32mIn[14], line 15\u001b[0m, in \u001b[0;36mtranslate\u001b[0;34m(translator, text)\u001b[0m\n\u001b[1;32m     13\u001b[0m tokens \u001b[38;5;241m=\u001b[39m [\u001b[38;5;124m'\u001b[39m\u001b[38;5;124mdyu\u001b[39m\u001b[38;5;124m'\u001b[39m] \u001b[38;5;241m+\u001b[39m tokens \u001b[38;5;241m+\u001b[39m [\u001b[38;5;124m\"\u001b[39m\u001b[38;5;124m</s>\u001b[39m\u001b[38;5;124m\"\u001b[39m] \u001b[38;5;241m+\u001b[39m[\u001b[38;5;124m'\u001b[39m\u001b[38;5;124mfr\u001b[39m\u001b[38;5;124m'\u001b[39m]\n\u001b[1;32m     14\u001b[0m \u001b[38;5;28;01mtry\u001b[39;00m:\n\u001b[0;32m---> 15\u001b[0m     results \u001b[38;5;241m=\u001b[39m \u001b[43mtranslator\u001b[49m\u001b[38;5;241;43m.\u001b[39;49m\u001b[43mtranslate_batch\u001b[49m\u001b[43m(\u001b[49m\u001b[43m[\u001b[49m\u001b[43mtokens\u001b[49m\u001b[43m]\u001b[49m\u001b[43m)\u001b[49m\n\u001b[1;32m     16\u001b[0m     \u001b[38;5;66;03m# The translated results are token strings, so we need to convert them to IDs before decoding\u001b[39;00m\n\u001b[1;32m     17\u001b[0m     translations \u001b[38;5;241m=\u001b[39m []\n",
      "\u001b[0;31mKeyboardInterrupt\u001b[0m: "
     ]
    }
   ],
   "source": [
    "### Eval ct model\n",
    "\n",
    "device = \"cuda\" if torch.cuda.is_available() else \"cpu\"\n",
    "print(f\"Using device: {device}\")\n",
    "\n",
    "sp_source_model = spm.SentencePieceProcessor(model_file=ct_model_path+'/source.spm')\n",
    "sp_target_model = spm.SentencePieceProcessor(model_file=ct_model_path+'/target.spm')\n",
    "\n",
    "\n",
    "def translate(translator, text):\n",
    "    tokens = sp_source_model.encode(text, out_type=str)\n",
    "    # print(tokens)\n",
    "    tokens = ['dyu'] + tokens + [\"</s>\"] +['fr']\n",
    "    try:\n",
    "        results = translator.translate_batch([tokens])\n",
    "        # The translated results are token strings, so we need to convert them to IDs before decoding\n",
    "        translations = []\n",
    "        for translation in results:\n",
    "            decoded_text = sp_target_model.decode(translation.hypotheses[0])\n",
    "            translations.append(decoded_text)\n",
    "    except Exception as e:\n",
    "        print(f\"Translation error: {e}\")\n",
    "        translations = [\"\"]  # Return empty string if translation fails\n",
    "    return translations\n",
    "\n",
    "def calculate_bleu(references, hypotheses):\n",
    "    bleu = BLEU()\n",
    "    return bleu.corpus_score(hypotheses, [references]).score\n",
    "\n",
    "def validate_model(model_path, dataset_name, split):\n",
    "    # Load CTranslate2 model\n",
    "    translator = ctranslate2.Translator(model_path, device=device)\n",
    "    # Load dataset\n",
    "    dataset = load_dataset(dataset_name, split=split)\n",
    "    # Translate and calculate BLEU score\n",
    "    hypotheses = []\n",
    "    references = []\n",
    "\n",
    "    for batch in tqdm(dataset, desc=\"Translating\"):\n",
    "        source_text = batch['translation']['dyu']  # Adjust this based on your dataset's column names\n",
    "        reference = batch['translation']['fr']  # Adjust this based on your dataset's column names\n",
    "        \n",
    "        # translation = translate(translator, tokenizer, source_text, device)[0]\n",
    "        # tokenizer=None\n",
    "        translation = translate(translator, source_text)[0]\n",
    "        hypotheses.append(translation)\n",
    "        references.append(reference)\n",
    "        # print(translation, \"----\", reference)\n",
    "        # break\n",
    "\n",
    "    bleu_score = calculate_bleu(references, hypotheses)\n",
    "    print(f\"BLEU Score: {bleu_score:.2f}\")\n",
    "\n",
    "validate_model(ct_model_path, \"uvci/Koumankan_mt_dyu_fr\", \"train\")"
   ]
  },
  {
   "cell_type": "markdown",
   "metadata": {},
   "source": []
  },
  {
   "cell_type": "code",
   "execution_count": null,
   "metadata": {},
   "outputs": [],
   "source": []
  }
 ],
 "metadata": {
  "kernelspec": {
   "display_name": "zindi-z3yfXQo9-py3.9",
   "language": "python",
   "name": "python3"
  },
  "language_info": {
   "codemirror_mode": {
    "name": "ipython",
    "version": 3
   },
   "file_extension": ".py",
   "mimetype": "text/x-python",
   "name": "python",
   "nbconvert_exporter": "python",
   "pygments_lexer": "ipython3",
   "version": "3.9.19"
  }
 },
 "nbformat": 4,
 "nbformat_minor": 2
}
