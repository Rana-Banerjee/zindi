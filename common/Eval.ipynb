{
 "cells": [
  {
   "cell_type": "code",
   "execution_count": 22,
   "metadata": {},
   "outputs": [
    {
     "name": "stdout",
     "output_type": "stream",
     "text": [
      "/root/zindi\n"
     ]
    }
   ],
   "source": [
    "# %cd /home/rana/Projects/zindi\n",
    "%cd /root/zindi/\n",
    "import yaml\n",
    "with open('common/config.yaml', 'r') as f:\n",
    "    config = yaml.load(f, Loader=yaml.SafeLoader)"
   ]
  },
  {
   "cell_type": "code",
   "execution_count": 23,
   "metadata": {},
   "outputs": [],
   "source": [
    "checkpoint = config.get('checkpoint')\n",
    "new_model_path=config.get('new_model_path')+checkpoint\n",
    "ct_model_path=config.get('ct_model_path')+checkpoint\n",
    "\n",
    "# model_checkpoint=\"/root/zindi/models/marian/marian_output/\"+checkpoint\n",
    "# model_checkpoint_ct=\"/root/zindi/models/marian/ct/\"+checkpoint"
   ]
  },
  {
   "cell_type": "code",
   "execution_count": 24,
   "metadata": {},
   "outputs": [],
   "source": [
    "import tqdm as notebook_tqdm\n",
    "import torch\n",
    "from transformers import AutoTokenizer, AutoModelForSeq2SeqLM\n",
    "from datasets import load_dataset\n",
    "from sacrebleu.metrics import BLEU\n",
    "from tqdm import tqdm\n",
    "import sentencepiece as spm\n",
    "import ctranslate2"
   ]
  },
  {
   "cell_type": "code",
   "execution_count": 8,
   "metadata": {},
   "outputs": [
    {
     "name": "stdout",
     "output_type": "stream",
     "text": [
      "Using device: cuda\n"
     ]
    },
    {
     "name": "stderr",
     "output_type": "stream",
     "text": [
      "Translating:   0%|          | 0/1471 [00:00<?, ?it/s]\n"
     ]
    },
    {
     "ename": "ValueError",
     "evalue": "`decoder_start_token_id` or `bos_token_id` has to be defined for encoder-decoder generation.",
     "output_type": "error",
     "traceback": [
      "\u001b[0;31m---------------------------------------------------------------------------\u001b[0m",
      "\u001b[0;31mValueError\u001b[0m                                Traceback (most recent call last)",
      "Cell \u001b[0;32mIn[8], line 46\u001b[0m\n\u001b[1;32m     40\u001b[0m     \u001b[38;5;28mprint\u001b[39m(\u001b[38;5;124mf\u001b[39m\u001b[38;5;124m\"\u001b[39m\u001b[38;5;124mBLEU Score: \u001b[39m\u001b[38;5;132;01m{\u001b[39;00mbleu_score\u001b[38;5;132;01m:\u001b[39;00m\u001b[38;5;124m.2f\u001b[39m\u001b[38;5;132;01m}\u001b[39;00m\u001b[38;5;124m\"\u001b[39m)\n\u001b[1;32m     42\u001b[0m \u001b[38;5;66;03m# Run validation with GPU\u001b[39;00m\n\u001b[1;32m     43\u001b[0m \u001b[38;5;66;03m# validate_model(model_checkpoint, \"uvci/Koumankan_mt_dyu_fr\", use_gpu=True)\u001b[39;00m\n\u001b[1;32m     44\u001b[0m \n\u001b[1;32m     45\u001b[0m \u001b[38;5;66;03m# Run validation without GPU\u001b[39;00m\n\u001b[0;32m---> 46\u001b[0m \u001b[43mvalidate_model\u001b[49m\u001b[43m(\u001b[49m\u001b[43mnew_model_path\u001b[49m\u001b[43m,\u001b[49m\u001b[43m \u001b[49m\u001b[38;5;124;43m\"\u001b[39;49m\u001b[38;5;124;43muvci/Koumankan_mt_dyu_fr\u001b[39;49m\u001b[38;5;124;43m\"\u001b[39;49m\u001b[43m,\u001b[49m\u001b[43m \u001b[49m\u001b[38;5;124;43m\"\u001b[39;49m\u001b[38;5;124;43mvalidation\u001b[39;49m\u001b[38;5;124;43m\"\u001b[39;49m\u001b[43m)\u001b[49m\n",
      "Cell \u001b[0;32mIn[8], line 31\u001b[0m, in \u001b[0;36mvalidate_model\u001b[0;34m(model_name, dataset_name, split)\u001b[0m\n\u001b[1;32m     28\u001b[0m source_text \u001b[38;5;241m=\u001b[39m batch[\u001b[38;5;124m'\u001b[39m\u001b[38;5;124mtranslation\u001b[39m\u001b[38;5;124m'\u001b[39m][\u001b[38;5;124m'\u001b[39m\u001b[38;5;124mdyu\u001b[39m\u001b[38;5;124m'\u001b[39m]  \u001b[38;5;66;03m# Adjust this based on your dataset's column names\u001b[39;00m\n\u001b[1;32m     29\u001b[0m reference \u001b[38;5;241m=\u001b[39m batch[\u001b[38;5;124m'\u001b[39m\u001b[38;5;124mtranslation\u001b[39m\u001b[38;5;124m'\u001b[39m][\u001b[38;5;124m'\u001b[39m\u001b[38;5;124mfr\u001b[39m\u001b[38;5;124m'\u001b[39m]  \u001b[38;5;66;03m# Adjust this based on your dataset's column names\u001b[39;00m\n\u001b[0;32m---> 31\u001b[0m translation \u001b[38;5;241m=\u001b[39m \u001b[43mtranslate\u001b[49m\u001b[43m(\u001b[49m\u001b[43mmodel\u001b[49m\u001b[43m,\u001b[49m\u001b[43m \u001b[49m\u001b[43mtokenizer\u001b[49m\u001b[43m,\u001b[49m\u001b[43m \u001b[49m\u001b[43msource_text\u001b[49m\u001b[43m,\u001b[49m\u001b[43m \u001b[49m\u001b[43mdevice\u001b[49m\u001b[43m)\u001b[49m[\u001b[38;5;241m0\u001b[39m]\n\u001b[1;32m     32\u001b[0m \u001b[38;5;66;03m# print(reference)\u001b[39;00m\n\u001b[1;32m     33\u001b[0m \u001b[38;5;66;03m# print(translation)\u001b[39;00m\n\u001b[1;32m     35\u001b[0m hypotheses\u001b[38;5;241m.\u001b[39mappend(translation)\n",
      "Cell \u001b[0;32mIn[8], line 5\u001b[0m, in \u001b[0;36mtranslate\u001b[0;34m(model, tokenizer, text, device)\u001b[0m\n\u001b[1;32m      3\u001b[0m \u001b[38;5;28;01mdef\u001b[39;00m \u001b[38;5;21mtranslate\u001b[39m(model, tokenizer, text, device):\n\u001b[1;32m      4\u001b[0m     inputs \u001b[38;5;241m=\u001b[39m tokenizer(text, return_tensors\u001b[38;5;241m=\u001b[39m\u001b[38;5;124m\"\u001b[39m\u001b[38;5;124mpt\u001b[39m\u001b[38;5;124m\"\u001b[39m, padding\u001b[38;5;241m=\u001b[39m\u001b[38;5;28;01mTrue\u001b[39;00m, truncation\u001b[38;5;241m=\u001b[39m\u001b[38;5;28;01mTrue\u001b[39;00m, max_length\u001b[38;5;241m=\u001b[39m\u001b[38;5;241m150\u001b[39m)\u001b[38;5;241m.\u001b[39mto(device)\n\u001b[0;32m----> 5\u001b[0m     translated \u001b[38;5;241m=\u001b[39m \u001b[43mmodel\u001b[49m\u001b[38;5;241;43m.\u001b[39;49m\u001b[43mgenerate\u001b[49m\u001b[43m(\u001b[49m\u001b[38;5;241;43m*\u001b[39;49m\u001b[38;5;241;43m*\u001b[39;49m\u001b[43minputs\u001b[49m\u001b[43m)\u001b[49m\n\u001b[1;32m      6\u001b[0m     \u001b[38;5;28;01mreturn\u001b[39;00m tokenizer\u001b[38;5;241m.\u001b[39mbatch_decode(translated, skip_special_tokens\u001b[38;5;241m=\u001b[39m\u001b[38;5;28;01mTrue\u001b[39;00m)\n",
      "File \u001b[0;32m~/.cache/pypoetry/virtualenvs/zindi-LtLKIbXv-py3.9/lib/python3.9/site-packages/torch/utils/_contextlib.py:116\u001b[0m, in \u001b[0;36mcontext_decorator.<locals>.decorate_context\u001b[0;34m(*args, **kwargs)\u001b[0m\n\u001b[1;32m    113\u001b[0m \u001b[38;5;129m@functools\u001b[39m\u001b[38;5;241m.\u001b[39mwraps(func)\n\u001b[1;32m    114\u001b[0m \u001b[38;5;28;01mdef\u001b[39;00m \u001b[38;5;21mdecorate_context\u001b[39m(\u001b[38;5;241m*\u001b[39margs, \u001b[38;5;241m*\u001b[39m\u001b[38;5;241m*\u001b[39mkwargs):\n\u001b[1;32m    115\u001b[0m     \u001b[38;5;28;01mwith\u001b[39;00m ctx_factory():\n\u001b[0;32m--> 116\u001b[0m         \u001b[38;5;28;01mreturn\u001b[39;00m \u001b[43mfunc\u001b[49m\u001b[43m(\u001b[49m\u001b[38;5;241;43m*\u001b[39;49m\u001b[43margs\u001b[49m\u001b[43m,\u001b[49m\u001b[43m \u001b[49m\u001b[38;5;241;43m*\u001b[39;49m\u001b[38;5;241;43m*\u001b[39;49m\u001b[43mkwargs\u001b[49m\u001b[43m)\u001b[49m\n",
      "File \u001b[0;32m~/zindi/transformers/src/transformers/generation/utils.py:1713\u001b[0m, in \u001b[0;36mGenerationMixin.generate\u001b[0;34m(self, inputs, generation_config, logits_processor, stopping_criteria, prefix_allowed_tokens_fn, synced_gpus, assistant_model, streamer, negative_prompt_ids, negative_prompt_attention_mask, **kwargs)\u001b[0m\n\u001b[1;32m   1710\u001b[0m batch_size \u001b[38;5;241m=\u001b[39m inputs_tensor\u001b[38;5;241m.\u001b[39mshape[\u001b[38;5;241m0\u001b[39m]\n\u001b[1;32m   1712\u001b[0m device \u001b[38;5;241m=\u001b[39m inputs_tensor\u001b[38;5;241m.\u001b[39mdevice\n\u001b[0;32m-> 1713\u001b[0m \u001b[38;5;28;43mself\u001b[39;49m\u001b[38;5;241;43m.\u001b[39;49m\u001b[43m_prepare_special_tokens\u001b[49m\u001b[43m(\u001b[49m\u001b[43mgeneration_config\u001b[49m\u001b[43m,\u001b[49m\u001b[43m \u001b[49m\u001b[43mkwargs_has_attention_mask\u001b[49m\u001b[43m,\u001b[49m\u001b[43m \u001b[49m\u001b[43mdevice\u001b[49m\u001b[38;5;241;43m=\u001b[39;49m\u001b[43mdevice\u001b[49m\u001b[43m)\u001b[49m\n\u001b[1;32m   1715\u001b[0m \u001b[38;5;66;03m# decoder-only models must use left-padding for batched generation.\u001b[39;00m\n\u001b[1;32m   1716\u001b[0m \u001b[38;5;28;01mif\u001b[39;00m \u001b[38;5;129;01mnot\u001b[39;00m \u001b[38;5;28mself\u001b[39m\u001b[38;5;241m.\u001b[39mconfig\u001b[38;5;241m.\u001b[39mis_encoder_decoder \u001b[38;5;129;01mand\u001b[39;00m \u001b[38;5;129;01mnot\u001b[39;00m is_torchdynamo_compiling():\n\u001b[1;32m   1717\u001b[0m     \u001b[38;5;66;03m# If `input_ids` was given, check if the last id in any sequence is `pad_token_id`\u001b[39;00m\n\u001b[1;32m   1718\u001b[0m     \u001b[38;5;66;03m# Note: If using, `inputs_embeds` this check does not work, because we want to be more hands-off.\u001b[39;00m\n",
      "File \u001b[0;32m~/zindi/transformers/src/transformers/generation/utils.py:1556\u001b[0m, in \u001b[0;36mGenerationMixin._prepare_special_tokens\u001b[0;34m(self, generation_config, kwargs_has_attention_mask, device)\u001b[0m\n\u001b[1;32m   1554\u001b[0m \u001b[38;5;66;03m# Sanity checks/warnings\u001b[39;00m\n\u001b[1;32m   1555\u001b[0m \u001b[38;5;28;01mif\u001b[39;00m \u001b[38;5;28mself\u001b[39m\u001b[38;5;241m.\u001b[39mconfig\u001b[38;5;241m.\u001b[39mis_encoder_decoder \u001b[38;5;129;01mand\u001b[39;00m decoder_start_token_tensor \u001b[38;5;129;01mis\u001b[39;00m \u001b[38;5;28;01mNone\u001b[39;00m:\n\u001b[0;32m-> 1556\u001b[0m     \u001b[38;5;28;01mraise\u001b[39;00m \u001b[38;5;167;01mValueError\u001b[39;00m(\n\u001b[1;32m   1557\u001b[0m         \u001b[38;5;124m\"\u001b[39m\u001b[38;5;124m`decoder_start_token_id` or `bos_token_id` has to be defined for encoder-decoder generation.\u001b[39m\u001b[38;5;124m\"\u001b[39m\n\u001b[1;32m   1558\u001b[0m     )\n\u001b[1;32m   1559\u001b[0m \u001b[38;5;28;01mif\u001b[39;00m \u001b[38;5;129;01mnot\u001b[39;00m is_torchdynamo_compiling():  \u001b[38;5;66;03m# Checks that depend on tensor-dependent control flow\u001b[39;00m\n\u001b[1;32m   1560\u001b[0m     \u001b[38;5;28;01mif\u001b[39;00m (\n\u001b[1;32m   1561\u001b[0m         eos_token_tensor \u001b[38;5;129;01mis\u001b[39;00m \u001b[38;5;129;01mnot\u001b[39;00m \u001b[38;5;28;01mNone\u001b[39;00m\n\u001b[1;32m   1562\u001b[0m         \u001b[38;5;129;01mand\u001b[39;00m torch\u001b[38;5;241m.\u001b[39misin(elements\u001b[38;5;241m=\u001b[39meos_token_tensor, test_elements\u001b[38;5;241m=\u001b[39mpad_token_tensor)\u001b[38;5;241m.\u001b[39many()\n\u001b[1;32m   1563\u001b[0m     ):\n",
      "\u001b[0;31mValueError\u001b[0m: `decoder_start_token_id` or `bos_token_id` has to be defined for encoder-decoder generation."
     ]
    }
   ],
   "source": [
    "### Eval original model \n",
    "\n",
    "def translate(model, tokenizer, text, device):\n",
    "    inputs = tokenizer(text, return_tensors=\"pt\", padding=True, truncation=True, max_length=150).to(device)\n",
    "    translated = model.generate(**inputs)\n",
    "    return tokenizer.batch_decode(translated, skip_special_tokens=True)\n",
    "\n",
    "def calculate_bleu(references, hypotheses):\n",
    "    bleu = BLEU()\n",
    "    return bleu.corpus_score(hypotheses, [references]).score\n",
    "\n",
    "def validate_model(model_name, dataset_name, split):\n",
    "    device = torch.device(\"cuda\" if torch.cuda.is_available() else \"cpu\")\n",
    "    print(f\"Using device: {device}\")\n",
    "\n",
    "    # Load model and tokenizer\n",
    "    tokenizer = AutoTokenizer.from_pretrained(model_name)\n",
    "    model = AutoModelForSeq2SeqLM.from_pretrained(model_name).to(device)\n",
    "\n",
    "    # Load dataset\n",
    "    dataset = load_dataset(dataset_name, split=split)\n",
    "\n",
    "    # Translate and calculate BLEU score\n",
    "    hypotheses = []\n",
    "    references = []\n",
    "\n",
    "    for batch in tqdm(dataset, desc=\"Translating\"):\n",
    "        source_text = batch['translation']['dyu']  # Adjust this based on your dataset's column names\n",
    "        reference = batch['translation']['fr']  # Adjust this based on your dataset's column names\n",
    "        \n",
    "        translation = translate(model, tokenizer, source_text, device)[0]\n",
    "        # print(reference)\n",
    "        # print(translation)\n",
    "        \n",
    "        hypotheses.append(translation)\n",
    "        references.append(reference)\n",
    "        # break\n",
    "\n",
    "    bleu_score = calculate_bleu(references, hypotheses)\n",
    "    print(f\"BLEU Score: {bleu_score:.2f}\")\n",
    "\n",
    "# Run validation with GPU\n",
    "# validate_model(model_checkpoint, \"uvci/Koumankan_mt_dyu_fr\", use_gpu=True)\n",
    "\n",
    "# Run validation without GPU\n",
    "validate_model(new_model_path, \"uvci/Koumankan_mt_dyu_fr\", \"validation\")"
   ]
  },
  {
   "cell_type": "code",
   "execution_count": 26,
   "metadata": {},
   "outputs": [
    {
     "name": "stdout",
     "output_type": "stream",
     "text": [
      "Using device: cuda\n"
     ]
    },
    {
     "name": "stderr",
     "output_type": "stream",
     "text": [
      "Translating: 100%|██████████| 8065/8065 [02:44<00:00, 49.08it/s]\n"
     ]
    },
    {
     "name": "stdout",
     "output_type": "stream",
     "text": [
      "BLEU Score: 82.40\n"
     ]
    }
   ],
   "source": [
    "### Eval ct model\n",
    "\n",
    "device = \"cuda\" if torch.cuda.is_available() else \"cpu\"\n",
    "print(f\"Using device: {device}\")\n",
    "\n",
    "sp_source_model = spm.SentencePieceProcessor(model_file=ct_model_path+'/source.spm')\n",
    "sp_target_model = spm.SentencePieceProcessor(model_file=ct_model_path+'/target.spm')\n",
    "\n",
    "\n",
    "def translate(translator, text):\n",
    "    tokens = sp_source_model.encode(text, out_type=str)\n",
    "    # print(tokens)\n",
    "    tokens = ['dyu'] + tokens + [\"</s>\"] +['fr']\n",
    "    try:\n",
    "        results = translator.translate_batch([tokens])\n",
    "        # The translated results are token strings, so we need to convert them to IDs before decoding\n",
    "        translations = []\n",
    "        for translation in results:\n",
    "            decoded_text = sp_target_model.decode(translation.hypotheses[0])\n",
    "            translations.append(decoded_text)\n",
    "    except Exception as e:\n",
    "        print(f\"Translation error: {e}\")\n",
    "        translations = [\"\"]  # Return empty string if translation fails\n",
    "    return translations\n",
    "\n",
    "def calculate_bleu(references, hypotheses):\n",
    "    bleu = BLEU()\n",
    "    return bleu.corpus_score(hypotheses, [references]).score\n",
    "\n",
    "def validate_model(model_path, dataset_name, split):\n",
    "    # Load CTranslate2 model\n",
    "    translator = ctranslate2.Translator(model_path, device=device)\n",
    "    # Load dataset\n",
    "    dataset = load_dataset(dataset_name, split=split)\n",
    "    # Translate and calculate BLEU score\n",
    "    hypotheses = []\n",
    "    references = []\n",
    "\n",
    "    for batch in tqdm(dataset, desc=\"Translating\"):\n",
    "        source_text = batch['translation']['dyu']  # Adjust this based on your dataset's column names\n",
    "        reference = batch['translation']['fr']  # Adjust this based on your dataset's column names\n",
    "        \n",
    "        # translation = translate(translator, tokenizer, source_text, device)[0]\n",
    "        # tokenizer=None\n",
    "        translation = translate(translator, source_text)[0]\n",
    "        hypotheses.append(translation)\n",
    "        references.append(reference)\n",
    "        # print(translation, \"----\", reference)\n",
    "        # break\n",
    "\n",
    "    bleu_score = calculate_bleu(references, hypotheses)\n",
    "    print(f\"BLEU Score: {bleu_score:.2f}\")\n",
    "\n",
    "validate_model(ct_model_path, \"uvci/Koumankan_mt_dyu_fr\", \"train\")"
   ]
  },
  {
   "cell_type": "markdown",
   "metadata": {},
   "source": []
  },
  {
   "cell_type": "code",
   "execution_count": null,
   "metadata": {},
   "outputs": [],
   "source": []
  }
 ],
 "metadata": {
  "kernelspec": {
   "display_name": "zindi-z3yfXQo9-py3.9",
   "language": "python",
   "name": "python3"
  },
  "language_info": {
   "codemirror_mode": {
    "name": "ipython",
    "version": 3
   },
   "file_extension": ".py",
   "mimetype": "text/x-python",
   "name": "python",
   "nbconvert_exporter": "python",
   "pygments_lexer": "ipython3",
   "version": "3.9.19"
  }
 },
 "nbformat": 4,
 "nbformat_minor": 2
}
