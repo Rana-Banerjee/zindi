{
 "cells": [
  {
   "cell_type": "code",
   "execution_count": 1,
   "metadata": {},
   "outputs": [],
   "source": [
    "import sentencepiece as spm"
   ]
  },
  {
   "cell_type": "code",
   "execution_count": null,
   "metadata": {},
   "outputs": [],
   "source": [
    "%cd /content/drive/MyDrive/zindi_opt/tokenizer"
   ]
  },
  {
   "cell_type": "code",
   "execution_count": null,
   "metadata": {},
   "outputs": [],
   "source": [
    "spm.SentencePieceTrainer.train(\n",
    "    input='/content/drive/MyDrive/zindi_opt/data/master.txt',\n",
    "    model_prefix='combined',\n",
    "    vocab_size=31999,  # Reduce vocab size by 1 to make room for pad token\n",
    "    character_coverage=1.0,\n",
    "    model_type='bpe',\n",
    "    input_sentence_size=1000000,\n",
    "    shuffle_input_sentence=True,\n",
    ")"
   ]
  },
  {
   "cell_type": "code",
   "execution_count": null,
   "metadata": {},
   "outputs": [],
   "source": [
    "sp = spm.SentencePieceProcessor()\n",
    "sp.load('combined.model')"
   ]
  },
  {
   "cell_type": "code",
   "execution_count": null,
   "metadata": {},
   "outputs": [],
   "source": [
    "vocab = [sp.id_to_piece(i) for i in range(sp.get_piece_size()) if not sp.is_control(i) and not sp.is_unknown(i)]"
   ]
  },
  {
   "cell_type": "code",
   "execution_count": null,
   "metadata": {},
   "outputs": [],
   "source": [
    "vocab.append(\"<pad>\")"
   ]
  },
  {
   "cell_type": "code",
   "execution_count": null,
   "metadata": {},
   "outputs": [],
   "source": [
    "spm.SentencePieceTrainer.train(\n",
    "    input='/content/drive/MyDrive/zindi_opt/data/master.txt',\n",
    "    model_prefix='combined_with_pad',\n",
    "    vocab_size=32000,\n",
    "    model_type='bpe',\n",
    "    character_coverage=1.0,\n",
    "    input_sentence_size=1000000,\n",
    "    shuffle_input_sentence=True,\n",
    "    user_defined_symbols=['<pad>'],\n",
    "    pad_id=31999,  # Set the pad_id to 31999 (the last index)\n",
    "    unk_id=0,  # Ensure <unk> is at index 0\n",
    "    bos_id=1,  #  <s> token\n",
    "    eos_id=2,  #  </s> token\n",
    ")"
   ]
  },
  {
   "cell_type": "code",
   "execution_count": null,
   "metadata": {},
   "outputs": [],
   "source": [
    "sp_new = spm.SentencePieceProcessor()\n",
    "sp_new.load('combined_with_pad.model')\n",
    "print(sp_new.piece_to_id(\"<pad>\"))  # Should print 31999\n",
    "print(sp_new.get_piece_size())  # Should print 32000"
   ]
  },
  {
   "cell_type": "code",
   "execution_count": null,
   "metadata": {},
   "outputs": [],
   "source": [
    "tokens = {}\n",
    "counter = 0\n",
    "with open(\"/content/drive/MyDrive/zindi_opt/tokenizer/combined.vocab\", \"r\") as f:\n",
    "    for line in f.readlines():\n",
    "        tokens[str(line.split()[0])]=counter\n",
    "        counter+=1\n",
    "    tokens[\"<pad>\"]=counter"
   ]
  },
  {
   "cell_type": "code",
   "execution_count": null,
   "metadata": {},
   "outputs": [],
   "source": [
    "import json \n",
    "with open('combined_vocab_with_pad.json', 'w', encoding='utf-8') as f:\n",
    "    json.dump(tokens, f, ensure_ascii=False, indent=2)"
   ]
  },
  {
   "cell_type": "code",
   "execution_count": 3,
   "metadata": {},
   "outputs": [
    {
     "name": "stderr",
     "output_type": "stream",
     "text": [
      "/home/rana/Projects/zindi/transformers/src/transformers/tokenization_utils_base.py:1601: FutureWarning: `clean_up_tokenization_spaces` was not set. It will be set to `True` by default. This behavior will be deprecated in transformers v4.45, and will be then set to `False` by default. For more details check this issue: https://github.com/huggingface/transformers/issues/31884\n",
      "  warnings.warn(\n"
     ]
    }
   ],
   "source": [
    "from transformers import MarianTokenizer\n",
    "\n",
    "tokenizer = MarianTokenizer.from_pretrained(\n",
    "    \"Helsinki-NLP/opus-mt-en-fr\", \n",
    "    source_spm='/home/rana/Projects/zindi/tokenizer_custom/combined_pad/combined_with_pad.model',\n",
    "    target_spm='/home/rana/Projects/zindi/tokenizer_custom/combined_pad/combined_with_pad.model',\n",
    "    vocab='/home/rana/Projects/zindi/tokenizer_custom/combined_pad/combined_formatted_pad.json',\n",
    "    source_lang='dyu',\n",
    "    target_lang='fr'\n",
    ")"
   ]
  },
  {
   "cell_type": "code",
   "execution_count": 6,
   "metadata": {},
   "outputs": [
    {
     "data": {
      "text/plain": [
       "('/home/rana/Projects/zindi/tokenizer_custom/combined_pad_V1/tokenizer_config.json',\n",
       " '/home/rana/Projects/zindi/tokenizer_custom/combined_pad_V1/special_tokens_map.json',\n",
       " '/home/rana/Projects/zindi/tokenizer_custom/combined_pad_V1/vocab.json',\n",
       " '/home/rana/Projects/zindi/tokenizer_custom/combined_pad_V1/source.spm',\n",
       " '/home/rana/Projects/zindi/tokenizer_custom/combined_pad_V1/target.spm',\n",
       " '/home/rana/Projects/zindi/tokenizer_custom/combined_pad_V1/added_tokens.json')"
      ]
     },
     "execution_count": 6,
     "metadata": {},
     "output_type": "execute_result"
    }
   ],
   "source": [
    "tokenizer.save_pretrained('/home/rana/Projects/zindi/tokenizer_custom/combined_pad_V1')"
   ]
  },
  {
   "cell_type": "code",
   "execution_count": null,
   "metadata": {},
   "outputs": [],
   "source": []
  }
 ],
 "metadata": {
  "kernelspec": {
   "display_name": "zindi-z3yfXQo9-py3.9",
   "language": "python",
   "name": "python3"
  },
  "language_info": {
   "codemirror_mode": {
    "name": "ipython",
    "version": 3
   },
   "file_extension": ".py",
   "mimetype": "text/x-python",
   "name": "python",
   "nbconvert_exporter": "python",
   "pygments_lexer": "ipython3",
   "version": "3.9.5"
  }
 },
 "nbformat": 4,
 "nbformat_minor": 2
}
