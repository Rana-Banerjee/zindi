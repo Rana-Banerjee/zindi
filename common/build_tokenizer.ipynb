{
 "cells": [
  {
   "cell_type": "code",
   "execution_count": 2,
   "metadata": {},
   "outputs": [],
   "source": [
    "import sentencepiece as spm\n"
   ]
  },
  {
   "cell_type": "code",
   "execution_count": 3,
   "metadata": {},
   "outputs": [],
   "source": [
    "vocab_sizes = [8000, 16000, 32000]\n",
    "\n",
    "for size in vocab_sizes:\n",
    "    spm.SentencePieceTrainer.train(\n",
    "        input='/home/rana/Projects/zindi/data/all_dyu.txt',\n",
    "        model_prefix=f'dyula_{size}',\n",
    "        vocab_size=size,\n",
    "        character_coverage=1.0,\n",
    "        model_type='bpe',\n",
    "        input_sentence_size=1000000,\n",
    "        shuffle_input_sentence=True\n",
    "    )\n",
    "\n",
    "    # Load the model and test it on some sample text\n",
    "    sp = spm.SentencePieceProcessor()\n",
    "    sp.load(f'dyula_{size}.model')\n",
    "    \n",
    "    sample_text = \"an ni sɔgɔma hɛrɛ sira somɔgɔw do?\"\n",
    "    print(f\"Vocab size: {size}\")\n",
    "    print(f\"Tokenized: {sp.encode(sample_text, out_type=str)}\")\n",
    "    print()"
   ]
  },
  {
   "cell_type": "code",
   "execution_count": null,
   "metadata": {},
   "outputs": [],
   "source": [
    "vocab_sizes = [8000, 16000, 32000]\n",
    "\n",
    "for size in vocab_sizes:\n",
    "    spm.SentencePieceTrainer.train(\n",
    "        input='/home/rana/Projects/zindi/data/all_fr.txt',\n",
    "        model_prefix=f'fr_{size}',\n",
    "        vocab_size=size,\n",
    "        character_coverage=1.0,\n",
    "        model_type='bpe',\n",
    "        input_sentence_size=1000000,\n",
    "        shuffle_input_sentence=True\n",
    "    )\n",
    "\n",
    "    # Load the model and test it on some sample text\n",
    "    sp = spm.SentencePieceProcessor()\n",
    "    sp.load(f'fr_{size}.model')\n",
    "    \n",
    "    sample_text = \"Votre opérateur téléphonique local devrait pouvoir vous en dire plus au sujet de la connexion à ce service.\"\n",
    "    print(f\"Vocab size: {size}\")\n",
    "    print(f\"Tokenized: {sp.encode(sample_text, out_type=str)}\")\n",
    "    print()"
   ]
  },
  {
   "cell_type": "code",
   "execution_count": null,
   "metadata": {},
   "outputs": [],
   "source": [
    "\n",
    "# Train Dyula SentencePiece model\n",
    "spm.SentencePieceTrainer.train(\n",
    "    input='/home/rana/Projects/zindi/data/all_dyu.txt',\n",
    "    model_prefix='dyu',\n",
    "    vocab_size=32000,\n",
    "    character_coverage=1.0,\n",
    "    model_type='bpe',\n",
    "    input_sentence_size=1000000,\n",
    "    shuffle_input_sentence=True\n",
    ")\n",
    "\n",
    "# Train French SentencePiece model\n",
    "spm.SentencePieceTrainer.train(\n",
    "    input='french_sentences.txt',\n",
    "    model_prefix='french',\n",
    "    vocab_size=32000,\n",
    "    character_coverage=1.0,\n",
    "    model_type='bpe',\n",
    "    input_sentence_size=1000000,\n",
    "    shuffle_input_sentence=True\n",
    ")"
   ]
  },
  {
   "cell_type": "code",
   "execution_count": null,
   "metadata": {},
   "outputs": [],
   "source": []
  }
 ],
 "metadata": {
  "kernelspec": {
   "display_name": "zindi-z3yfXQo9-py3.9",
   "language": "python",
   "name": "python3"
  },
  "language_info": {
   "codemirror_mode": {
    "name": "ipython",
    "version": 3
   },
   "file_extension": ".py",
   "mimetype": "text/x-python",
   "name": "python",
   "nbconvert_exporter": "python",
   "pygments_lexer": "ipython3",
   "version": "3.9.5"
  }
 },
 "nbformat": 4,
 "nbformat_minor": 2
}
